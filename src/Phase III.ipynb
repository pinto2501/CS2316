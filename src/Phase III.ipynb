{
 "cells": [
  {
   "cell_type": "markdown",
   "metadata": {
    "id": "GJ4Xt1uf1LT7"
   },
   "source": [
    "# Final Project Phase 3 Summary\n",
    "This Jupyter Notebook (.ipynb) will serve as the skeleton file for your submission for Phase 3 of the Final Project. Complete all sections below as specified in the instructions for the project, covering all necessary details. We will use this to grade your individual code (Do this whether you are in a group or not). Good luck! <br><br>\n",
    "\n",
    "Note: To edit a Markdown cell, double-click on its text."
   ]
  },
  {
   "cell_type": "markdown",
   "metadata": {
    "id": "tjB_SbWY1LUB"
   },
   "source": [
    "## Jupyter Notebook Quick Tips\n",
    "Here are some quick formatting tips to get you started with Jupyter Notebooks. This is by no means exhaustive, and there are plenty of articles to highlight other things that can be done. We recommend using HTML syntax for Markdown but there is also Markdown syntax that is more streamlined and might be preferable. \n",
    "<a href = \"https://towardsdatascience.com/markdown-cells-jupyter-notebook-d3bea8416671\">Here's an article</a> that goes into more detail. (Double-click on cell to see syntax)\n",
    "\n",
    "# Heading 1\n",
    "## Heading 2\n",
    "### Heading 3\n",
    "#### Heading 4\n",
    "<br>\n",
    "<b>BoldText</b> or <i>ItalicText</i>\n",
    "<br> <br>\n",
    "Math Formulas: $x^2 + y^2 = 1$\n",
    "<br> <br>\n",
    "Line Breaks are done using br enclosed in < >.\n",
    "<br><br>\n",
    "Hyperlinks are done with: <a> https://www.google.com </a> or \n",
    "<a href=\"http://www.google.com\">Google</a><br>"
   ]
  },
  {
   "cell_type": "markdown",
   "metadata": {},
   "source": [
    "# Video Presentation\n",
    "\n",
    "If you uploaded your Video Presentation to Bluejeans, YouTube, or any other streaming services, please provide the link here:\n",
    "\n",
    "\n",
    "*   Video Presentation Link: https://youtu.be/xHam3ZdZOY0\n",
    "\n",
    "\n",
    "Make sure the video sharing permissions are accessible for anyone with the provided link."
   ]
  },
  {
   "cell_type": "markdown",
   "metadata": {
    "id": "tb9oVjpRDswQ"
   },
   "source": [
    "# Data Collection and Cleaning\n",
    "\n",
    "\n",
    "Transfer/update the data collection and cleaning you created for Phase II below. You may include additional cleaning functions if you have extra datasets. If no changes are necessary, simply copy and paste your phase II parsing/cleaning functions.\n"
   ]
  },
  {
   "cell_type": "markdown",
   "metadata": {
    "id": "9mRjxZDbE1tj"
   },
   "source": [
    "## Downloaded Dataset Requirement\n",
    "\n"
   ]
  },
  {
   "cell_type": "code",
   "execution_count": 6,
   "metadata": {
    "id": "0p5xxmqzFGrO"
   },
   "outputs": [
    {
     "data": {
      "text/html": [
       "<div>\n",
       "<style scoped>\n",
       "    .dataframe tbody tr th:only-of-type {\n",
       "        vertical-align: middle;\n",
       "    }\n",
       "\n",
       "    .dataframe tbody tr th {\n",
       "        vertical-align: top;\n",
       "    }\n",
       "\n",
       "    .dataframe thead th {\n",
       "        text-align: right;\n",
       "    }\n",
       "</style>\n",
       "<table border=\"1\" class=\"dataframe\">\n",
       "  <thead>\n",
       "    <tr style=\"text-align: right;\">\n",
       "      <th></th>\n",
       "      <th>item</th>\n",
       "      <th>futures_exchange</th>\n",
       "      <th>data_period</th>\n",
       "      <th>marketing_year</th>\n",
       "      <th>calendar_year_month</th>\n",
       "      <th>futures_contract</th>\n",
       "      <th>data_source_date</th>\n",
       "      <th>value</th>\n",
       "      <th>unit</th>\n",
       "    </tr>\n",
       "    <tr>\n",
       "      <th>commodity</th>\n",
       "      <th></th>\n",
       "      <th></th>\n",
       "      <th></th>\n",
       "      <th></th>\n",
       "      <th></th>\n",
       "      <th></th>\n",
       "      <th></th>\n",
       "      <th></th>\n",
       "      <th></th>\n",
       "    </tr>\n",
       "  </thead>\n",
       "  <tbody>\n",
       "    <tr>\n",
       "      <th>Corn</th>\n",
       "      <td>Basis</td>\n",
       "      <td>CBOT</td>\n",
       "      <td>Monthly</td>\n",
       "      <td>1997</td>\n",
       "      <td>1997-09</td>\n",
       "      <td>1997-12</td>\n",
       "      <td>1998-11-30</td>\n",
       "      <td>-0.145625</td>\n",
       "      <td>U.S. dollars per bushel</td>\n",
       "    </tr>\n",
       "    <tr>\n",
       "      <th>Corn</th>\n",
       "      <td>Basis</td>\n",
       "      <td>CBOT</td>\n",
       "      <td>Monthly</td>\n",
       "      <td>1997</td>\n",
       "      <td>1997-10</td>\n",
       "      <td>1997-12</td>\n",
       "      <td>1998-11-30</td>\n",
       "      <td>-0.251500</td>\n",
       "      <td>U.S. dollars per bushel</td>\n",
       "    </tr>\n",
       "    <tr>\n",
       "      <th>Corn</th>\n",
       "      <td>Basis</td>\n",
       "      <td>CBOT</td>\n",
       "      <td>Monthly</td>\n",
       "      <td>1997</td>\n",
       "      <td>1997-11</td>\n",
       "      <td>1997-12</td>\n",
       "      <td>1998-11-30</td>\n",
       "      <td>-0.241875</td>\n",
       "      <td>U.S. dollars per bushel</td>\n",
       "    </tr>\n",
       "    <tr>\n",
       "      <th>Corn</th>\n",
       "      <td>Basis</td>\n",
       "      <td>CBOT</td>\n",
       "      <td>Monthly</td>\n",
       "      <td>1997</td>\n",
       "      <td>1997-12</td>\n",
       "      <td>1998-03</td>\n",
       "      <td>1998-11-30</td>\n",
       "      <td>-0.205625</td>\n",
       "      <td>U.S. dollars per bushel</td>\n",
       "    </tr>\n",
       "    <tr>\n",
       "      <th>Corn</th>\n",
       "      <td>Basis</td>\n",
       "      <td>CBOT</td>\n",
       "      <td>Monthly</td>\n",
       "      <td>1997</td>\n",
       "      <td>1998-01</td>\n",
       "      <td>1998-03</td>\n",
       "      <td>1998-11-30</td>\n",
       "      <td>-0.144500</td>\n",
       "      <td>U.S. dollars per bushel</td>\n",
       "    </tr>\n",
       "    <tr>\n",
       "      <th>...</th>\n",
       "      <td>...</td>\n",
       "      <td>...</td>\n",
       "      <td>...</td>\n",
       "      <td>...</td>\n",
       "      <td>...</td>\n",
       "      <td>...</td>\n",
       "      <td>...</td>\n",
       "      <td>...</td>\n",
       "      <td>...</td>\n",
       "    </tr>\n",
       "    <tr>\n",
       "      <th>Wheat</th>\n",
       "      <td>Wheat production by class</td>\n",
       "      <td>CBOT</td>\n",
       "      <td>Yearly</td>\n",
       "      <td>2024</td>\n",
       "      <td>None</td>\n",
       "      <td>None</td>\n",
       "      <td>2024-06-12</td>\n",
       "      <td>208612.000000</td>\n",
       "      <td>1000 bushels</td>\n",
       "    </tr>\n",
       "    <tr>\n",
       "      <th>Wheat</th>\n",
       "      <td>Wheat production by class</td>\n",
       "      <td>CBOT</td>\n",
       "      <td>Yearly</td>\n",
       "      <td>2024</td>\n",
       "      <td>None</td>\n",
       "      <td>None</td>\n",
       "      <td>2024-07-12</td>\n",
       "      <td>215478.000000</td>\n",
       "      <td>1000 bushels</td>\n",
       "    </tr>\n",
       "    <tr>\n",
       "      <th>Wheat</th>\n",
       "      <td>Wheat production by class</td>\n",
       "      <td>CBOT</td>\n",
       "      <td>Yearly</td>\n",
       "      <td>2024</td>\n",
       "      <td>None</td>\n",
       "      <td>None</td>\n",
       "      <td>2024-08-12</td>\n",
       "      <td>223805.000000</td>\n",
       "      <td>1000 bushels</td>\n",
       "    </tr>\n",
       "    <tr>\n",
       "      <th>Wheat</th>\n",
       "      <td>Wheat production by class</td>\n",
       "      <td>CBOT</td>\n",
       "      <td>Yearly</td>\n",
       "      <td>2024</td>\n",
       "      <td>None</td>\n",
       "      <td>None</td>\n",
       "      <td>2024-09-30</td>\n",
       "      <td>216493.000000</td>\n",
       "      <td>1000 bushels</td>\n",
       "    </tr>\n",
       "    <tr>\n",
       "      <th>Wheat</th>\n",
       "      <td>Wheat production by class</td>\n",
       "      <td>CBOT</td>\n",
       "      <td>Yearly</td>\n",
       "      <td>2025</td>\n",
       "      <td>None</td>\n",
       "      <td>None</td>\n",
       "      <td>2025-05-12</td>\n",
       "      <td>232084.000000</td>\n",
       "      <td>1000 bushels</td>\n",
       "    </tr>\n",
       "  </tbody>\n",
       "</table>\n",
       "<p>124282 rows × 9 columns</p>\n",
       "</div>"
      ],
      "text/plain": [
       "                                item futures_exchange data_period  \\\n",
       "commodity                                                           \n",
       "Corn                           Basis             CBOT     Monthly   \n",
       "Corn                           Basis             CBOT     Monthly   \n",
       "Corn                           Basis             CBOT     Monthly   \n",
       "Corn                           Basis             CBOT     Monthly   \n",
       "Corn                           Basis             CBOT     Monthly   \n",
       "...                              ...              ...         ...   \n",
       "Wheat      Wheat production by class             CBOT      Yearly   \n",
       "Wheat      Wheat production by class             CBOT      Yearly   \n",
       "Wheat      Wheat production by class             CBOT      Yearly   \n",
       "Wheat      Wheat production by class             CBOT      Yearly   \n",
       "Wheat      Wheat production by class             CBOT      Yearly   \n",
       "\n",
       "          marketing_year calendar_year_month futures_contract  \\\n",
       "commodity                                                       \n",
       "Corn                1997             1997-09          1997-12   \n",
       "Corn                1997             1997-10          1997-12   \n",
       "Corn                1997             1997-11          1997-12   \n",
       "Corn                1997             1997-12          1998-03   \n",
       "Corn                1997             1998-01          1998-03   \n",
       "...                  ...                 ...              ...   \n",
       "Wheat               2024                None             None   \n",
       "Wheat               2024                None             None   \n",
       "Wheat               2024                None             None   \n",
       "Wheat               2024                None             None   \n",
       "Wheat               2025                None             None   \n",
       "\n",
       "          data_source_date          value                     unit  \n",
       "commodity                                                           \n",
       "Corn            1998-11-30      -0.145625  U.S. dollars per bushel  \n",
       "Corn            1998-11-30      -0.251500  U.S. dollars per bushel  \n",
       "Corn            1998-11-30      -0.241875  U.S. dollars per bushel  \n",
       "Corn            1998-11-30      -0.205625  U.S. dollars per bushel  \n",
       "Corn            1998-11-30      -0.144500  U.S. dollars per bushel  \n",
       "...                    ...            ...                      ...  \n",
       "Wheat           2024-06-12  208612.000000             1000 bushels  \n",
       "Wheat           2024-07-12  215478.000000             1000 bushels  \n",
       "Wheat           2024-08-12  223805.000000             1000 bushels  \n",
       "Wheat           2024-09-30  216493.000000             1000 bushels  \n",
       "Wheat           2025-05-12  232084.000000             1000 bushels  \n",
       "\n",
       "[124282 rows x 9 columns]"
      ]
     },
     "execution_count": 6,
     "metadata": {},
     "output_type": "execute_result"
    }
   ],
   "source": [
    "import pandas as pd\n",
    "import numpy as np\n",
    "\n",
    "def data_parser(file_name:str) -> pd.DataFrame:\n",
    "    df = pd.read_csv(file_name, index_col=0)\n",
    "\n",
    "    # Most of exchange are NaN because the item aren't supposed to be in the market for options such as Farm Bill direct Payment rate, etc.\n",
    "    # Fill futures_exchange\n",
    "    \n",
    "    df.loc[\"Corn\", \"futures_exchange\"] = df.loc[\"Corn\", \"futures_exchange\"].fillna(\"None\")\n",
    "    df.loc[\"Cotton\", \"futures_exchange\"] = df.loc[\"Cotton\", \"futures_exchange\"].fillna(\"None\")\n",
    "    df.loc[\"Soybeans\", \"futures_exchange\"] = df.loc[\"Soybeans\", \"futures_exchange\"].fillna(\"None\")\n",
    "    # For Wheat these type of wheat production are mostly traded at CBOT\n",
    "    df.loc[\"Wheat\", \"futures_exchange\"] = df.loc[\"Wheat\", \"futures_exchange\"].fillna(\"CBOT\")\n",
    "    \n",
    "    # Drop commodity_class, only Wheat production by class (item) has this attributes since others item aren't defined\n",
    "    # and we can't possibly work with these since 90%+ data aren't defined\n",
    "\n",
    "    df.drop([\"commodity_class\"], axis=1, inplace=True)\n",
    "\n",
    "    # Fill marketing_year, only Futures prices daily don't have this attributes (since it can't). Also change the datatype from float64 \n",
    "    # to str so all the data are compatible and remove .0 from all the str.\n",
    "\n",
    "    df[\"marketing_year\"] = df[\"marketing_year\"].astype(\"str\")\n",
    "    df.loc[:, \"marketing_year\"] = df.loc[:, \"marketing_year\"].str.replace(\".0\", \"\")\n",
    "    df.loc[:, \"marketing_year\"] = df.loc[:, \"marketing_year\"].fillna(\"None\")\n",
    "\n",
    "    # Fill calendar_year_month & futures_contract (mostly Farm bill payment rate and wheat production)\n",
    "    df.loc[:, \"calendar_year_month\"] = df.loc[:, \"calendar_year_month\"].fillna(\"None\")\n",
    "    df.loc[:, \"futures_contract\"] = df.loc[:, \"futures_contract\"].fillna(\"None\")\n",
    "\n",
    "    # Fill data_source_date\n",
    "    df.loc[:, \"data_source_date\"] = df.loc[:, \"data_source_date\"].fillna(\"None\")\n",
    "\n",
    "    # Fill unit for wheat contract weight ~ normally is 5000 bushels\n",
    "    df[\"unit\"] = df[\"unit\"].fillna(\"5000 bushels\")\n",
    "    \n",
    "    # Export Data\n",
    "    df.to_csv(\"clean_dowloaded_data.csv\")\n",
    "    \n",
    "    return df\n",
    "\n",
    "############ Function Call ############\n",
    "df = data_parser(\"inputdata.csv\")\n",
    "df"
   ]
  },
  {
   "cell_type": "markdown",
   "metadata": {
    "id": "794L4vGXFdYw"
   },
   "source": [
    "## Web Collection Requirement \\#1\n"
   ]
  },
  {
   "cell_type": "code",
   "execution_count": 8,
   "metadata": {
    "id": "vXwpJObDFiWM"
   },
   "outputs": [
    {
     "data": {
      "text/html": [
       "<div>\n",
       "<style scoped>\n",
       "    .dataframe tbody tr th:only-of-type {\n",
       "        vertical-align: middle;\n",
       "    }\n",
       "\n",
       "    .dataframe tbody tr th {\n",
       "        vertical-align: top;\n",
       "    }\n",
       "\n",
       "    .dataframe thead th {\n",
       "        text-align: right;\n",
       "    }\n",
       "</style>\n",
       "<table border=\"1\" class=\"dataframe\">\n",
       "  <thead>\n",
       "    <tr style=\"text-align: right;\">\n",
       "      <th></th>\n",
       "      <th>Place</th>\n",
       "      <th>Event</th>\n",
       "      <th>Magnitude</th>\n",
       "    </tr>\n",
       "  </thead>\n",
       "  <tbody>\n",
       "    <tr>\n",
       "      <th>2024-02-08</th>\n",
       "      <td>Norwood Park</td>\n",
       "      <td>Hail</td>\n",
       "      <td>1.00in.</td>\n",
       "    </tr>\n",
       "    <tr>\n",
       "      <th>2024-02-27</th>\n",
       "      <td>Streamwood</td>\n",
       "      <td>Tornado</td>\n",
       "      <td>EF0</td>\n",
       "    </tr>\n",
       "    <tr>\n",
       "      <th>2024-02-27</th>\n",
       "      <td>Elgin</td>\n",
       "      <td>Hail</td>\n",
       "      <td>1.00in.</td>\n",
       "    </tr>\n",
       "    <tr>\n",
       "      <th>2024-02-27</th>\n",
       "      <td>Hoffman Estates</td>\n",
       "      <td>Tornado</td>\n",
       "      <td>EF1</td>\n",
       "    </tr>\n",
       "    <tr>\n",
       "      <th>2024-02-27</th>\n",
       "      <td>South Barrington</td>\n",
       "      <td>Tornado</td>\n",
       "      <td>EF1</td>\n",
       "    </tr>\n",
       "    <tr>\n",
       "      <th>...</th>\n",
       "      <td>...</td>\n",
       "      <td>...</td>\n",
       "      <td>...</td>\n",
       "    </tr>\n",
       "    <tr>\n",
       "      <th>2025-02-08</th>\n",
       "      <td>Southern Cook County (Zo...</td>\n",
       "      <td>Winter Weather</td>\n",
       "      <td>None</td>\n",
       "    </tr>\n",
       "    <tr>\n",
       "      <th>2025-02-08</th>\n",
       "      <td>Central Cook County (Zon...</td>\n",
       "      <td>Winter Weather</td>\n",
       "      <td>None</td>\n",
       "    </tr>\n",
       "    <tr>\n",
       "      <th>2025-02-12</th>\n",
       "      <td>Northern Cook County (Zo...</td>\n",
       "      <td>Winter Weather</td>\n",
       "      <td>None</td>\n",
       "    </tr>\n",
       "    <tr>\n",
       "      <th>2025-02-18</th>\n",
       "      <td>Northern Cook County (Zo...</td>\n",
       "      <td>Cold/wind Chill</td>\n",
       "      <td>None</td>\n",
       "    </tr>\n",
       "    <tr>\n",
       "      <th>2025-02-18</th>\n",
       "      <td>Central Cook County (Zon...</td>\n",
       "      <td>Cold/wind Chill</td>\n",
       "      <td>None</td>\n",
       "    </tr>\n",
       "  </tbody>\n",
       "</table>\n",
       "<p>210 rows × 3 columns</p>\n",
       "</div>"
      ],
      "text/plain": [
       "                                  Place            Event Magnitude\n",
       "2024-02-08                 Norwood Park             Hail   1.00in.\n",
       "2024-02-27                   Streamwood          Tornado       EF0\n",
       "2024-02-27                        Elgin             Hail   1.00in.\n",
       "2024-02-27              Hoffman Estates          Tornado       EF1\n",
       "2024-02-27             South Barrington          Tornado       EF1\n",
       "...                                 ...              ...       ...\n",
       "2025-02-08  Southern Cook County (Zo...   Winter Weather      None\n",
       "2025-02-08  Central Cook County (Zon...   Winter Weather      None\n",
       "2025-02-12  Northern Cook County (Zo...   Winter Weather      None\n",
       "2025-02-18  Northern Cook County (Zo...  Cold/wind Chill      None\n",
       "2025-02-18  Central Cook County (Zon...  Cold/wind Chill      None\n",
       "\n",
       "[210 rows x 3 columns]"
      ]
     },
     "execution_count": 8,
     "metadata": {},
     "output_type": "execute_result"
    }
   ],
   "source": [
    "import requests\n",
    "from bs4 import BeautifulSoup\n",
    "\n",
    "def web_parser1(link):\n",
    "    response = requests.get(link)\n",
    "    soup = BeautifulSoup(response.text, parser=\"html.parser\")\n",
    "    rows = soup.find_all(\"tr\")\n",
    "\n",
    "    # event report start at row 9 and so on, the last row is just total so we don't include it\n",
    "    data = rows[9:-1]\n",
    "    all_data = []\n",
    "    dates = []\n",
    "  \n",
    "    for row in data:\n",
    "        td = row.find_all(\"td\")\n",
    "        place = td[0].text.lower().title()\n",
    "        event = td[6].text\n",
    "        date = td[3].text\n",
    "        magni = \"\".join(td[7].text.split(\" \"))\n",
    "\n",
    "        split_date = date.split(\"/\") #Month/Day/Year\n",
    "        split_date[0], split_date[1] = split_date[1], split_date[0]\n",
    "        clean_date = \"/\".join(split_date[::-1]) #Year/Month/Day\n",
    "        \n",
    "        all_data.append({\n",
    "            \"Place\": place,\n",
    "            \"Event\": event,\n",
    "            \"Magnitude\": magni if magni else \"None\"\n",
    "        })\n",
    "        dates.append(clean_date)\n",
    "        \n",
    "    df = pd.DataFrame(all_data, index = dates)\n",
    "\n",
    "    # Clean it \n",
    "\n",
    "    df.index = pd.to_datetime(df.index) # Change to datetime object for better time series analysis\n",
    "\n",
    "    # Export\n",
    "    df.to_csv(\"webparser1.csv\")\n",
    "    \n",
    "    return df\n",
    "############ Function Call ############\n",
    "df = web_parser1(\"https://www.ncdc.noaa.gov/stormevents/listevents.jsp?eventType=ALL&beginDate_mm=02&beginDate_dd=01&beginDate_yyyy=2024&endDate_mm=02&endDate_dd=28&endDate_yyyy=2025&county=COOK%3A31&hailfilter=0.00&tornfilter=0&windfilter=000&sort=DT&submitbutton=Search&statefips=17%2CILLINOIS\")\n",
    "df"
   ]
  },
  {
   "cell_type": "markdown",
   "metadata": {
    "id": "OTRqdBG6sSvu"
   },
   "source": [
    "## Web Collection Requirement #2"
   ]
  },
  {
   "cell_type": "code",
   "execution_count": null,
   "metadata": {
    "id": "YtV_MYeusYDd",
    "scrolled": true
   },
   "outputs": [
    {
     "data": {
      "text/html": [
       "<div>\n",
       "<style scoped>\n",
       "    .dataframe tbody tr th:only-of-type {\n",
       "        vertical-align: middle;\n",
       "    }\n",
       "\n",
       "    .dataframe tbody tr th {\n",
       "        vertical-align: top;\n",
       "    }\n",
       "\n",
       "    .dataframe thead th {\n",
       "        text-align: right;\n",
       "    }\n",
       "</style>\n",
       "<table border=\"1\" class=\"dataframe\">\n",
       "  <thead>\n",
       "    <tr style=\"text-align: right;\">\n",
       "      <th></th>\n",
       "      <th>location</th>\n",
       "      <th>date</th>\n",
       "      <th>temperature</th>\n",
       "      <th>humidity</th>\n",
       "      <th>wind_speed</th>\n",
       "      <th>uv_index</th>\n",
       "    </tr>\n",
       "  </thead>\n",
       "  <tbody>\n",
       "    <tr>\n",
       "      <th>0</th>\n",
       "      <td>Des Moines, Iowa</td>\n",
       "      <td>2025-07-26</td>\n",
       "      <td>26</td>\n",
       "      <td>79</td>\n",
       "      <td>20</td>\n",
       "      <td>6</td>\n",
       "    </tr>\n",
       "    <tr>\n",
       "      <th>1</th>\n",
       "      <td>Cedar Rapids, Iowa</td>\n",
       "      <td>2025-07-26</td>\n",
       "      <td>26</td>\n",
       "      <td>79</td>\n",
       "      <td>20</td>\n",
       "      <td>6</td>\n",
       "    </tr>\n",
       "    <tr>\n",
       "      <th>2</th>\n",
       "      <td>Chicago, Illinois</td>\n",
       "      <td>2025-07-26</td>\n",
       "      <td>26</td>\n",
       "      <td>79</td>\n",
       "      <td>20</td>\n",
       "      <td>6</td>\n",
       "    </tr>\n",
       "    <tr>\n",
       "      <th>3</th>\n",
       "      <td>Peoria, Illinois</td>\n",
       "      <td>2025-07-26</td>\n",
       "      <td>26</td>\n",
       "      <td>79</td>\n",
       "      <td>20</td>\n",
       "      <td>6</td>\n",
       "    </tr>\n",
       "    <tr>\n",
       "      <th>4</th>\n",
       "      <td>Lincoln, Nebraska</td>\n",
       "      <td>2025-07-26</td>\n",
       "      <td>26</td>\n",
       "      <td>79</td>\n",
       "      <td>20</td>\n",
       "      <td>6</td>\n",
       "    </tr>\n",
       "    <tr>\n",
       "      <th>5</th>\n",
       "      <td>Grand Island, Nebraska</td>\n",
       "      <td>2025-07-26</td>\n",
       "      <td>26</td>\n",
       "      <td>79</td>\n",
       "      <td>20</td>\n",
       "      <td>6</td>\n",
       "    </tr>\n",
       "    <tr>\n",
       "      <th>6</th>\n",
       "      <td>Kansas City, Missouri</td>\n",
       "      <td>2025-07-26</td>\n",
       "      <td>26</td>\n",
       "      <td>79</td>\n",
       "      <td>20</td>\n",
       "      <td>6</td>\n",
       "    </tr>\n",
       "    <tr>\n",
       "      <th>7</th>\n",
       "      <td>Minneapolis, Minnesota</td>\n",
       "      <td>2025-07-26</td>\n",
       "      <td>26</td>\n",
       "      <td>79</td>\n",
       "      <td>20</td>\n",
       "      <td>6</td>\n",
       "    </tr>\n",
       "    <tr>\n",
       "      <th>8</th>\n",
       "      <td>Sioux Falls, South Dakota</td>\n",
       "      <td>2025-07-26</td>\n",
       "      <td>26</td>\n",
       "      <td>79</td>\n",
       "      <td>20</td>\n",
       "      <td>6</td>\n",
       "    </tr>\n",
       "  </tbody>\n",
       "</table>\n",
       "</div>"
      ],
      "text/plain": [
       "                    location        date  temperature  humidity  wind_speed  \\\n",
       "0           Des Moines, Iowa  2025-07-26           26        79          20   \n",
       "1         Cedar Rapids, Iowa  2025-07-26           26        79          20   \n",
       "2          Chicago, Illinois  2025-07-26           26        79          20   \n",
       "3           Peoria, Illinois  2025-07-26           26        79          20   \n",
       "4          Lincoln, Nebraska  2025-07-26           26        79          20   \n",
       "5     Grand Island, Nebraska  2025-07-26           26        79          20   \n",
       "6      Kansas City, Missouri  2025-07-26           26        79          20   \n",
       "7     Minneapolis, Minnesota  2025-07-26           26        79          20   \n",
       "8  Sioux Falls, South Dakota  2025-07-26           26        79          20   \n",
       "\n",
       "   uv_index  \n",
       "0         6  \n",
       "1         6  \n",
       "2         6  \n",
       "3         6  \n",
       "4         6  \n",
       "5         6  \n",
       "6         6  \n",
       "7         6  \n",
       "8         6  "
      ]
     },
     "execution_count": 43,
     "metadata": {},
     "output_type": "execute_result"
    }
   ],
   "source": [
    "import requests\n",
    "import pandas as pd\n",
    "import time\n",
    "from datetime import datetime, timezone\n",
    "\n",
    "\n",
    "API_KEY = \"API_KEY\"\n",
    "# Top U.S. Corn-Producing Regions \n",
    "LOCATIONS = [\"Des Moines, Iowa\",\"Cedar Rapids, Iowa\",\"Chicago, Illinois\",\"Peoria, Illinois\",\"Lincoln, Nebraska\",\n",
    "             \"Grand Island, Nebraska\",\"Kansas City, Missouri\",\"Minneapolis, Minnesota\",\"Sioux Falls, South Dakota\",]\n",
    "\n",
    "def web_parser2(location):\n",
    "    weather_data = []\n",
    "    url = \"http://api.weatherstack.com/current\"\n",
    "\n",
    "    for loc in location:\n",
    "        params = {\"access_key\":API_KEY,\"query\": location}\n",
    "        response = requests.get(url, params=params)\n",
    "        data = response.json()\n",
    "        \n",
    "        if \"current\" in data:\n",
    "            weather_data.append({\n",
    "                \"location\": loc,\n",
    "                \"date\": datetime.now(timezone.utc).date(),\n",
    "                \"temperature\": data[\"current\"].get(\"temperature\"),\n",
    "                \"humidity\": data[\"current\"].get(\"humidity\"),\n",
    "                \"wind_speed\": data[\"current\"].get(\"wind_speed\"),\n",
    "                \"uv_index\": data[\"current\"].get(\"uv_index\")\n",
    "            })\n",
    "        time.sleep(1) \n",
    "\n",
    "    return weather_data\n",
    "\n",
    "############ Function Call ############\n",
    "data = web_parser2(LOCATIONS)\n",
    "df = pd.DataFrame(data)\n",
    "df.to_csv(\"corn_weather_data.csv\")\n",
    "df"
   ]
  },
  {
   "cell_type": "markdown",
   "metadata": {},
   "source": [
    "## Additional Dataset Parsing/Cleaning Functions"
   ]
  },
  {
   "cell_type": "code",
   "execution_count": 12,
   "metadata": {},
   "outputs": [
    {
     "data": {
      "text/html": [
       "<div>\n",
       "<style scoped>\n",
       "    .dataframe tbody tr th:only-of-type {\n",
       "        vertical-align: middle;\n",
       "    }\n",
       "\n",
       "    .dataframe tbody tr th {\n",
       "        vertical-align: top;\n",
       "    }\n",
       "\n",
       "    .dataframe thead th {\n",
       "        text-align: right;\n",
       "    }\n",
       "</style>\n",
       "<table border=\"1\" class=\"dataframe\">\n",
       "  <thead>\n",
       "    <tr style=\"text-align: right;\">\n",
       "      <th></th>\n",
       "      <th>Price</th>\n",
       "      <th>pct_change</th>\n",
       "      <th>log_return</th>\n",
       "      <th>price_log</th>\n",
       "      <th>price_log_diff</th>\n",
       "      <th>rolling_avg</th>\n",
       "      <th>rolling_std</th>\n",
       "    </tr>\n",
       "    <tr>\n",
       "      <th>observation_date</th>\n",
       "      <th></th>\n",
       "      <th></th>\n",
       "      <th></th>\n",
       "      <th></th>\n",
       "      <th></th>\n",
       "      <th></th>\n",
       "      <th></th>\n",
       "    </tr>\n",
       "  </thead>\n",
       "  <tbody>\n",
       "    <tr>\n",
       "      <th>1992-06-01</th>\n",
       "      <td>110.201927</td>\n",
       "      <td>0.937935</td>\n",
       "      <td>0.009336</td>\n",
       "      <td>4.702314</td>\n",
       "      <td>0.009336</td>\n",
       "      <td>108.988547</td>\n",
       "      <td>5.322022</td>\n",
       "    </tr>\n",
       "    <tr>\n",
       "      <th>1992-07-01</th>\n",
       "      <td>102.394058</td>\n",
       "      <td>-7.085057</td>\n",
       "      <td>-0.073486</td>\n",
       "      <td>4.628829</td>\n",
       "      <td>-0.073486</td>\n",
       "      <td>108.871665</td>\n",
       "      <td>5.429597</td>\n",
       "    </tr>\n",
       "    <tr>\n",
       "      <th>1992-08-01</th>\n",
       "      <td>97.539932</td>\n",
       "      <td>-4.740632</td>\n",
       "      <td>-0.048567</td>\n",
       "      <td>4.580262</td>\n",
       "      <td>-0.048567</td>\n",
       "      <td>108.579857</td>\n",
       "      <td>5.795793</td>\n",
       "    </tr>\n",
       "    <tr>\n",
       "      <th>1992-09-01</th>\n",
       "      <td>98.216675</td>\n",
       "      <td>0.693811</td>\n",
       "      <td>0.006914</td>\n",
       "      <td>4.587176</td>\n",
       "      <td>0.006914</td>\n",
       "      <td>108.192502</td>\n",
       "      <td>6.089726</td>\n",
       "    </tr>\n",
       "    <tr>\n",
       "      <th>1992-10-01</th>\n",
       "      <td>94.559769</td>\n",
       "      <td>-3.723305</td>\n",
       "      <td>-0.037944</td>\n",
       "      <td>4.549232</td>\n",
       "      <td>-0.037944</td>\n",
       "      <td>107.394550</td>\n",
       "      <td>6.258780</td>\n",
       "    </tr>\n",
       "    <tr>\n",
       "      <th>...</th>\n",
       "      <td>...</td>\n",
       "      <td>...</td>\n",
       "      <td>...</td>\n",
       "      <td>...</td>\n",
       "      <td>...</td>\n",
       "      <td>...</td>\n",
       "      <td>...</td>\n",
       "    </tr>\n",
       "    <tr>\n",
       "      <th>2025-01-01</th>\n",
       "      <td>214.359927</td>\n",
       "      <td>5.684548</td>\n",
       "      <td>0.055289</td>\n",
       "      <td>5.367657</td>\n",
       "      <td>0.055289</td>\n",
       "      <td>236.352049</td>\n",
       "      <td>51.632904</td>\n",
       "    </tr>\n",
       "    <tr>\n",
       "      <th>2025-02-01</th>\n",
       "      <td>221.254544</td>\n",
       "      <td>3.216374</td>\n",
       "      <td>0.031657</td>\n",
       "      <td>5.399314</td>\n",
       "      <td>0.031657</td>\n",
       "      <td>233.929508</td>\n",
       "      <td>50.531420</td>\n",
       "    </tr>\n",
       "    <tr>\n",
       "      <th>2025-03-01</th>\n",
       "      <td>207.751691</td>\n",
       "      <td>-6.102859</td>\n",
       "      <td>-0.062970</td>\n",
       "      <td>5.336344</td>\n",
       "      <td>-0.062970</td>\n",
       "      <td>230.436360</td>\n",
       "      <td>48.490295</td>\n",
       "    </tr>\n",
       "    <tr>\n",
       "      <th>2025-04-01</th>\n",
       "      <td>215.569093</td>\n",
       "      <td>3.762859</td>\n",
       "      <td>0.036938</td>\n",
       "      <td>5.373281</td>\n",
       "      <td>0.036938</td>\n",
       "      <td>226.170220</td>\n",
       "      <td>43.576152</td>\n",
       "    </tr>\n",
       "    <tr>\n",
       "      <th>2025-05-01</th>\n",
       "      <td>204.808448</td>\n",
       "      <td>-4.991738</td>\n",
       "      <td>-0.051206</td>\n",
       "      <td>5.322075</td>\n",
       "      <td>-0.051206</td>\n",
       "      <td>222.299512</td>\n",
       "      <td>39.868339</td>\n",
       "    </tr>\n",
       "  </tbody>\n",
       "</table>\n",
       "<p>396 rows × 7 columns</p>\n",
       "</div>"
      ],
      "text/plain": [
       "                       Price  pct_change  log_return  price_log  \\\n",
       "observation_date                                                  \n",
       "1992-06-01        110.201927    0.937935    0.009336   4.702314   \n",
       "1992-07-01        102.394058   -7.085057   -0.073486   4.628829   \n",
       "1992-08-01         97.539932   -4.740632   -0.048567   4.580262   \n",
       "1992-09-01         98.216675    0.693811    0.006914   4.587176   \n",
       "1992-10-01         94.559769   -3.723305   -0.037944   4.549232   \n",
       "...                      ...         ...         ...        ...   \n",
       "2025-01-01        214.359927    5.684548    0.055289   5.367657   \n",
       "2025-02-01        221.254544    3.216374    0.031657   5.399314   \n",
       "2025-03-01        207.751691   -6.102859   -0.062970   5.336344   \n",
       "2025-04-01        215.569093    3.762859    0.036938   5.373281   \n",
       "2025-05-01        204.808448   -4.991738   -0.051206   5.322075   \n",
       "\n",
       "                  price_log_diff  rolling_avg  rolling_std  \n",
       "observation_date                                            \n",
       "1992-06-01              0.009336   108.988547     5.322022  \n",
       "1992-07-01             -0.073486   108.871665     5.429597  \n",
       "1992-08-01             -0.048567   108.579857     5.795793  \n",
       "1992-09-01              0.006914   108.192502     6.089726  \n",
       "1992-10-01             -0.037944   107.394550     6.258780  \n",
       "...                          ...          ...          ...  \n",
       "2025-01-01              0.055289   236.352049    51.632904  \n",
       "2025-02-01              0.031657   233.929508    50.531420  \n",
       "2025-03-01             -0.062970   230.436360    48.490295  \n",
       "2025-04-01              0.036938   226.170220    43.576152  \n",
       "2025-05-01             -0.051206   222.299512    39.868339  \n",
       "\n",
       "[396 rows x 7 columns]"
      ]
     },
     "execution_count": 12,
     "metadata": {},
     "output_type": "execute_result"
    }
   ],
   "source": [
    "import pandas as pd\n",
    "import numpy as np\n",
    "\n",
    "def extra_source1(link):\n",
    "    df = pd.read_csv(link, index_col = 0)\n",
    "    \n",
    "    # Rename the columns\n",
    "    df.rename(columns = {\"PMAIZMTUSDM\" : \"Price\"}, inplace = True)\n",
    "    \n",
    "    # Compute percent change (Daily return)\n",
    "    df[\"pct_change\"] = df[\"Price\"].pct_change() * 100 \n",
    "    \n",
    "    # Log return\n",
    "    df[\"log_return\"] = np.log( df[\"Price\"] / df[\"Price\"].shift(1) )\n",
    "\n",
    "    # Log difference transformation (Stationary purpose)\n",
    "    df[\"price_log\"] = np.log(df[\"Price\"])\n",
    "    df[\"price_log_diff\"] = df[\"price_log\"].diff()\n",
    "\n",
    "    # Rolling average\n",
    "    df[\"rolling_avg\"] = df[\"Price\"].rolling(30).mean()\n",
    "\n",
    "    # Rolling standard deviation\n",
    "    df[\"rolling_std\"] = df[\"Price\"].rolling(30).std()\n",
    "\n",
    "    df.dropna(inplace = True) # We have more than enough data for visualization so droping some first price movement is fine\n",
    "\n",
    "    # Change to date time object -> Easier to work with for time series analysis\n",
    "    df.index = pd.to_datetime(df.index)\n",
    "\n",
    "    # Ready for visualization\n",
    "\n",
    "    df.to_csv(\"additional_dataset.csv\")\n",
    "    \n",
    "    return df\n",
    "    \n",
    "############ Function Call ############\n",
    "df = extra_source1(\"corn_price.csv\")\n",
    "df"
   ]
  },
  {
   "cell_type": "markdown",
   "metadata": {
    "id": "E5IgIeLI9Kw2"
   },
   "source": [
    "#Inconsistency Revisions\n",
    " **If you were requested to revise your inconsistency section from Phase II, enter your responses here. Otherwise, ignore this section.**\n",
    "\n",
    "For each inconsistency (NaN, null, duplicate values, empty strings, etc.) you discover in your datasets, write at least 2 sentences stating the significance, how you identified it, and how you handled it.\n",
    "\n",
    "1. Nan values in columns like futures_exchangem unit, item (downloaded dataset): these missing values can break the analysis and aggregations. I identified them using df.isna().sum() and handled them by filling with specific values such as \"None\" (for most of the columns in the downloaded dataset) and \"CBOT\" for the column \"future_exchanges\" for Wheat.\n",
    "\n",
    "2. Inconsistent date formats (Month/Day/Year vs. Year-Month-Day) (webparser1): date mismatches can prevent a consistent time-based analysis. I standardized all dates to YYYY-MM-DD and converted them to datetime objects using pd.to_datetime().\n",
    "\n",
    "3. Blank strings in the magnitude column (webparser1): blank strings were acting like hidden NaNs, which affects calculations. I replaced empty strings with \"None\" as a string instead.\n",
    "\n",
    "4. float64 year columns with .0 suffix (downloaded dataset): year values were mistakenly stored as floats, which caused formatting issues. I converted them to strings and removed the trailing .0 using .replace()."
   ]
  },
  {
   "cell_type": "markdown",
   "metadata": {
    "id": "8SQxJGDUs1gw"
   },
   "source": [
    "## Data Sources\n",
    "\n",
    "Include sources (as links) to your datasets. If any of these are different from your sources used in Phase II, please <b>clearly</b> specify.\n",
    "\n",
    "*   Downloaded Dataset Source: https://www.ers.usda.gov/data-products/season-average-price-forecasts. \n",
    "*   Web Collection #1 Source: https://www.ncdc.noaa.gov/stormevents/  \n",
    "*   Web Collection #2 Source: https://weatherstack.com/documentation. (Historical Weather)\n",
    "*   Additional dataset: https://fred.stlouisfed.org/series/PMAIZMTUSDM. \n"
   ]
  },
  {
   "cell_type": "markdown",
   "metadata": {
    "id": "A-CWo6kwvFvS"
   },
   "source": [
    "# Data Analysis\n",
    "For the Data Analysis section, you are required to utilize your data to complete the following:\n",
    "\n",
    "*   Create at least 5 insights\n",
    "*   Generate at least 3 data visualizations\n",
    "\n",
    "Create a function for each of the following sections mentioned above. Do not forget to fill out the explanation section for each function. \n",
    "\n",
    "Make sure your data analysis is not too simple. Performing complex aggregation and using modules not taught in class shows effort, which will increase the chance of receiving full credit. "
   ]
  },
  {
   "cell_type": "markdown",
   "metadata": {
    "id": "7GzggCBoxwGA"
   },
   "source": [
    "# Topic Summary\n",
    "\n",
    "Please provide a brief executive summary (5 sentences or less) discussing your topic:  This project explores the impact of U.S. weather conditions on commodities futures prices. The hypothesis is that changes in weather patterns significantly influence the percent change in commodities futures. Adverse conditions such as droughts or excessive rainfall can disrupt commodities yields, creating uncertainty around supply. In response, futures prices often rise in anticipation of tighter availability. On the other hand, favorable weather that promotes healthy commodities development tends to increase expected supply, which can exert downward pressure on prices. This project will try to confirmed that this statement holds."
   ]
  },
  {
   "cell_type": "markdown",
   "metadata": {
    "id": "VWv36q-Owkbi"
   },
   "source": [
    "## Insights"
   ]
  },
  {
   "cell_type": "code",
   "execution_count": 18,
   "metadata": {
    "id": "0J5Z3M84wmaY"
   },
   "outputs": [
    {
     "data": {
      "text/html": [
       "<div>\n",
       "<style scoped>\n",
       "    .dataframe tbody tr th:only-of-type {\n",
       "        vertical-align: middle;\n",
       "    }\n",
       "\n",
       "    .dataframe tbody tr th {\n",
       "        vertical-align: top;\n",
       "    }\n",
       "\n",
       "    .dataframe thead th {\n",
       "        text-align: right;\n",
       "    }\n",
       "</style>\n",
       "<table border=\"1\" class=\"dataframe\">\n",
       "  <thead>\n",
       "    <tr style=\"text-align: right;\">\n",
       "      <th></th>\n",
       "      <th>commodity</th>\n",
       "      <th>item</th>\n",
       "      <th>marketing_year</th>\n",
       "      <th>value</th>\n",
       "    </tr>\n",
       "  </thead>\n",
       "  <tbody>\n",
       "    <tr>\n",
       "      <th>0</th>\n",
       "      <td>Corn</td>\n",
       "      <td>Basis</td>\n",
       "      <td>2010</td>\n",
       "      <td>-0.900156</td>\n",
       "    </tr>\n",
       "    <tr>\n",
       "      <th>1</th>\n",
       "      <td>Wheat</td>\n",
       "      <td>Basis</td>\n",
       "      <td>2010</td>\n",
       "      <td>-0.926281</td>\n",
       "    </tr>\n",
       "    <tr>\n",
       "      <th>2</th>\n",
       "      <td>Soybeans</td>\n",
       "      <td>Basis</td>\n",
       "      <td>2010</td>\n",
       "      <td>-0.993646</td>\n",
       "    </tr>\n",
       "    <tr>\n",
       "      <th>3</th>\n",
       "      <td>Cotton</td>\n",
       "      <td>Basis</td>\n",
       "      <td>2010</td>\n",
       "      <td>-0.642197</td>\n",
       "    </tr>\n",
       "  </tbody>\n",
       "</table>\n",
       "</div>"
      ],
      "text/plain": [
       "  commodity   item marketing_year     value\n",
       "0      Corn  Basis           2010 -0.900156\n",
       "1     Wheat  Basis           2010 -0.926281\n",
       "2  Soybeans  Basis           2010 -0.993646\n",
       "3    Cotton  Basis           2010 -0.642197"
      ]
     },
     "execution_count": 18,
     "metadata": {},
     "output_type": "execute_result"
    }
   ],
   "source": [
    "import pandas as pd\n",
    "def insight1():\n",
    "    df = data_parser(\"inputdata.csv\")\n",
    "    df1 = pd.DataFrame(df[df[\"item\"] == \"Basis\"].groupby([\"commodity\", \"item\", \"marketing_year\"])[\"value\"].mean())\n",
    "    df1.reset_index(inplace=True)\n",
    "    \n",
    "    corn_idx = df1[df1[\"commodity\"] == \"Corn\"][\"value\"].idxmin()\n",
    "    wheat_idx = df1[df1[\"commodity\"] == \"Wheat\"][\"value\"].idxmin()\n",
    "    soybean_idx = df1[df1[\"commodity\"] == \"Soybeans\"][\"value\"].idxmin()\n",
    "    cotton_idx = df1[df1[\"commodity\"] == \"Cotton\"][\"value\"].idxmin()\n",
    "    \n",
    "    corn_df = pd.DataFrame(df1[df1[\"commodity\"] == \"Corn\"].iloc[corn_idx, :]).T\n",
    "    wheat_df = pd.DataFrame(df1[df1[\"commodity\"] == \"Wheat\"].iloc[corn_idx, :]).T\n",
    "    soybean_df = pd.DataFrame(df1[df1[\"commodity\"] == \"Soybeans\"].iloc[corn_idx, :]).T\n",
    "    cotton_df = pd.DataFrame(df1[df1[\"commodity\"] == \"Cotton\"].iloc[corn_idx, :]).T\n",
    "    \n",
    "    worst_performing_year = pd.concat([corn_df, wheat_df, soybean_df, cotton_df], axis=0)\n",
    "    return worst_performing_year.reset_index(drop=True)\n",
    "\n",
    "\n",
    "############ Function Call ############\n",
    "\n",
    "df = insight1()\n",
    "df"
   ]
  },
  {
   "cell_type": "markdown",
   "metadata": {
    "id": "54oggrpbw6TX"
   },
   "source": [
    "### Insight 1 Explanation\n",
    "\n",
    "Insert explanation here: This insight highlights the worst-performing year by examining the \"Basis\" of corn futures. The basis in corn futures is defined as the difference between the spot price (the current market price) and the corresponding futures contract price. A negative basis indicates that the futures price is lower than the spot price, suggesting a potential downward movement in the future. This situation may arise due to an unexpected spike in current demand, which can push spot prices higher, a condition known as backwardation. On the other hand, a positive basis reflects a typical market scenario where futures prices are higher than spot prices due to factors like inflation, storage, and carrying costs. This market condition is referred to as contango.\n",
    "\n",
    "We can see that the worst-performing year (for the farmer since there's a downward movement in price, thus leads to lower price level) was 2010, which, interestingly, is consistent across all commodity types. We also include the values as a reference to compare different assets and assess the level of risk involved in investing in them. Cotton appears to have a lower risk compared to the other assets, as indicated by the table.\n",
    "\n",
    "What I learned: Using .idxmin(), .T, concat, and reset_index. These functions are not use daily so it's not easy to find a task to be able to apply it."
   ]
  },
  {
   "cell_type": "code",
   "execution_count": 20,
   "metadata": {
    "id": "mJe4pMRgwuC5"
   },
   "outputs": [
    {
     "data": {
      "text/html": [
       "<div>\n",
       "<style scoped>\n",
       "    .dataframe tbody tr th:only-of-type {\n",
       "        vertical-align: middle;\n",
       "    }\n",
       "\n",
       "    .dataframe tbody tr th {\n",
       "        vertical-align: top;\n",
       "    }\n",
       "\n",
       "    .dataframe thead th {\n",
       "        text-align: right;\n",
       "    }\n",
       "</style>\n",
       "<table border=\"1\" class=\"dataframe\">\n",
       "  <thead>\n",
       "    <tr style=\"text-align: right;\">\n",
       "      <th></th>\n",
       "      <th>Price Forecasted</th>\n",
       "      <th>Price received</th>\n",
       "      <th>Error</th>\n",
       "    </tr>\n",
       "    <tr>\n",
       "      <th>commodity</th>\n",
       "      <th></th>\n",
       "      <th></th>\n",
       "      <th></th>\n",
       "    </tr>\n",
       "  </thead>\n",
       "  <tbody>\n",
       "    <tr>\n",
       "      <th>Corn</th>\n",
       "      <td>4.003786</td>\n",
       "      <td>3.787168</td>\n",
       "      <td>-5.719773</td>\n",
       "    </tr>\n",
       "    <tr>\n",
       "      <th>Cotton</th>\n",
       "      <td>0.671686</td>\n",
       "      <td>0.618000</td>\n",
       "      <td>-8.687112</td>\n",
       "    </tr>\n",
       "    <tr>\n",
       "      <th>Soybeans</th>\n",
       "      <td>9.606955</td>\n",
       "      <td>9.010975</td>\n",
       "      <td>-6.613929</td>\n",
       "    </tr>\n",
       "    <tr>\n",
       "      <th>Wheat</th>\n",
       "      <td>5.452469</td>\n",
       "      <td>5.294507</td>\n",
       "      <td>-2.983505</td>\n",
       "    </tr>\n",
       "  </tbody>\n",
       "</table>\n",
       "</div>"
      ],
      "text/plain": [
       "           Price Forecasted  Price received     Error\n",
       "commodity                                            \n",
       "Corn               4.003786        3.787168 -5.719773\n",
       "Cotton             0.671686        0.618000 -8.687112\n",
       "Soybeans           9.606955        9.010975 -6.613929\n",
       "Wheat              5.452469        5.294507 -2.983505"
      ]
     },
     "execution_count": 20,
     "metadata": {},
     "output_type": "execute_result"
    }
   ],
   "source": [
    "def insight2():\n",
    "    df = data_parser(\"inputdata.csv\")\n",
    "    df.reset_index(inplace=True)\n",
    "    price_forecasted = pd.DataFrame(df[df[\"item\"] == \"WASDE MYA price forecast\"].groupby(\"commodity\")[\"value\"].mean())\n",
    "    price_received = df[df[\"item\"] == \"Price received\"].groupby(\"commodity\")[\"value\"].mean()\n",
    "\n",
    "    merged = pd.merge(price_forecasted, price_received, left_index=True, right_index=True, how=\"inner\")\n",
    "    merged[\"Error\"] =  (merged[\"value_y\"] - merged[\"value_x\"]) / merged[\"value_y\"] * 100\n",
    "\n",
    "    merged.rename(columns={\"value_x\":\"Price Forecasted\", \"value_y\":\"Price received\"}, inplace=True)\n",
    "\n",
    "    return merged\n",
    "    \n",
    "############ Function Call ############\n",
    "insight2()"
   ]
  },
  {
   "cell_type": "markdown",
   "metadata": {
    "id": "P08Se47bxG5d"
   },
   "source": [
    "### Insight 2 Explanation\n",
    "\n",
    "Insert explanation here: This insight evaluates the accuracy of USDA's WASDE MYA price forecasts by comparing them to the actual prices received by farmers for different commodities. It calculates the percentage error between the forecasted and actual prices to identify how close the forecasts were to real market outcomes.\n",
    "\n",
    "A positive error means that the actual price received was higher than the forecast, suggesting the forecast underestimated the market. Conversely, a negative error indicates that the forecast overestimated prices. This can help stakeholders assess how reliable WASDE forecasts are across commodities, influencing decisions on crop planning, marketing, and risk management.\n",
    "\n",
    "From the insights, most forecasts provided by WASDE tend to overestimate the actual values. This insight highlights the reliability of the forecasts, indicating how accurate they are within a certain percentage point. The data represents an average over the entire period, effectively capturing the average error faced by each commodity.\n",
    "\n",
    "What I learned: Grouping, merging, column renaming, and simple error computation with vectorized operations."
   ]
  },
  {
   "cell_type": "code",
   "execution_count": 22,
   "metadata": {
    "id": "00EurEXJwvxf"
   },
   "outputs": [
    {
     "data": {
      "text/html": [
       "<div>\n",
       "<style scoped>\n",
       "    .dataframe tbody tr th:only-of-type {\n",
       "        vertical-align: middle;\n",
       "    }\n",
       "\n",
       "    .dataframe tbody tr th {\n",
       "        vertical-align: top;\n",
       "    }\n",
       "\n",
       "    .dataframe thead th {\n",
       "        text-align: right;\n",
       "    }\n",
       "</style>\n",
       "<table border=\"1\" class=\"dataframe\">\n",
       "  <thead>\n",
       "    <tr style=\"text-align: right;\">\n",
       "      <th></th>\n",
       "      <th>marketing_year</th>\n",
       "      <th>mean</th>\n",
       "      <th>std</th>\n",
       "      <th>min</th>\n",
       "      <th>max</th>\n",
       "    </tr>\n",
       "  </thead>\n",
       "  <tbody>\n",
       "    <tr>\n",
       "      <th>0</th>\n",
       "      <td>2007</td>\n",
       "      <td>-0.805220</td>\n",
       "      <td>0.779416</td>\n",
       "      <td>-3.009375</td>\n",
       "      <td>1.144375</td>\n",
       "    </tr>\n",
       "    <tr>\n",
       "      <th>1</th>\n",
       "      <td>2010</td>\n",
       "      <td>-0.866398</td>\n",
       "      <td>0.566340</td>\n",
       "      <td>-2.419375</td>\n",
       "      <td>1.075000</td>\n",
       "    </tr>\n",
       "    <tr>\n",
       "      <th>2</th>\n",
       "      <td>2012</td>\n",
       "      <td>-0.073486</td>\n",
       "      <td>0.546017</td>\n",
       "      <td>-2.409375</td>\n",
       "      <td>1.505000</td>\n",
       "    </tr>\n",
       "  </tbody>\n",
       "</table>\n",
       "</div>"
      ],
      "text/plain": [
       "  marketing_year      mean       std       min       max\n",
       "0           2007 -0.805220  0.779416 -3.009375  1.144375\n",
       "1           2010 -0.866398  0.566340 -2.419375  1.075000\n",
       "2           2012 -0.073486  0.546017 -2.409375  1.505000"
      ]
     },
     "execution_count": 22,
     "metadata": {},
     "output_type": "execute_result"
    }
   ],
   "source": [
    "def insight3():\n",
    "    df = data_parser(\"inputdata.csv\")\n",
    "    df_basis = df[df[\"item\"] == \"Basis\"]\n",
    "    stats = df_basis.groupby(\"marketing_year\")[\"value\"].agg([\"mean\", \"std\", \"min\", \"max\"]).reset_index()\n",
    "    stats = stats[(stats[\"std\"] > 0.5)]\n",
    "    stats.reset_index(inplace=True, drop=True)\n",
    "    return stats\n",
    "\n",
    "############ Function Call ############\n",
    "insight3()"
   ]
  },
  {
   "cell_type": "markdown",
   "metadata": {
    "id": "6QNP4yx2xHkT"
   },
   "source": [
    "### Insight 3 Explanation\n",
    "\n",
    "Insert explanation here: This insight summarizes the year-to-year volatility and trend in the basis values for agricultural commodities by calculating mean, standard deviation, minimum, and maximum for each marketing year. The basis, defined as the difference between the spot price and the futures price, is an important indicator of market conditions, transportation costs, and local supply-demand dynamics.\n",
    "\n",
    "By analyzing these summary statistics over time, we can assess whether the basis has become more volatile (using standard deviation), whether there's a trend toward weakening or strengthening basis (via mean), and identify any outlier years (using min/max) that may have been driven by unusual market conditions such as weather shocks or policy changes.\n",
    "\n",
    "Filtering for years with a standard deviation greater than 0.5 highlights periods of higher volatility, helping to identify years with significant market uncertainty or unusual disruptions. From the table, 2007, 2010, and 2012 are the top three most volatile marketing years based on their standard deviations. A notable byproduct of this observation is that the means for these years are all negative, indicating poor performance during these periods. This combination of high volatility and low prices reflects particularly unfavorable market conditions.\n",
    "\n",
    "What I learned: Using groupby with multiple function (.agg() follows by a list of aggregation functions to compute multiple statistics all at once)."
   ]
  },
  {
   "cell_type": "code",
   "execution_count": 24,
   "metadata": {
    "id": "LUWgj50BwwKN"
   },
   "outputs": [
    {
     "data": {
      "text/plain": [
       "'Correlation: 0.4537348518138657, How much does the number of events and volatility correlates: 45.37%'"
      ]
     },
     "execution_count": 24,
     "metadata": {},
     "output_type": "execute_result"
    }
   ],
   "source": [
    "def insight4():\n",
    "    weather_df= web_parser1(\"https://www.ncdc.noaa.gov/stormevents/listevents.jsp?eventType=ALL&beginDate_mm=02&beginDate_dd=01&beginDate_yyyy=2024&endDate_mm=02&endDate_dd=28&endDate_yyyy=2025&county=COOK%3A31&hailfilter=0.00&tornfilter=0&windfilter=000&sort=DT&submitbutton=Search&statefips=17%2CILLINOIS\")\n",
    "    corn_df = extra_source1(\"corn_price.csv\")\n",
    "    weather_df.index = weather_df.index.strftime(\"%Y-%m\")\n",
    "    corn_df.index = corn_df.index.strftime(\"%Y-%m\")\n",
    "\n",
    "    # Compute Volatility\n",
    "    corn_df[\"volatility\"] = corn_df[\"log_return\"].rolling(12).std()\n",
    "\n",
    "    # Count the number of events \n",
    "    grouped = pd.DataFrame(weather_df.groupby(weather_df.index)[\"Event\"].count())\n",
    "    merged = pd.merge(corn_df, grouped, left_index = True, right_index = True, how=\"inner\")\n",
    "    correlation = merged[\"Event\"].corr(merged[\"volatility\"])\n",
    "\n",
    "    return f\"Correlation: {correlation}, How much does the number of events and volatility correlates: {round(correlation * 100, 2)}%\"\n",
    "\n",
    "############ Function Call ############\n",
    "insight4()"
   ]
  },
  {
   "cell_type": "markdown",
   "metadata": {
    "id": "4Tv4xPG8xIIh"
   },
   "source": [
    "### Insight 4 Explanation\n",
    "\n",
    "Insert explanation here: Compute the correlation between the number of events from 2024 to 2025 and the volatility of corn prices. This insight explains the degree to which our data depends on each other. In short, the correlation tells us how strongly the variables are related. A correlation of 1 is the maximum correlation, meaning that both the dataset fully correlate with each other (a linear correlation). The correlation indicates that as one variable increases, the other one tends to increase as well (for positive correlation). For a correlation of 0, the variables are not correlated at all. \n",
    "\n",
    "Based on this information, we can conclude that volatility is somewhat correlated with the number of events (~0.5). Therefore, we may reasonably rely on the number of events as an indicator when analyzing changes in volatility. However, we must also keep in mind that correlation does not imply causation. For example, ice cream sales and drowning rates are correlated, but one does not cause the other. Both tend to spike during the summer, when people are more likely to consume ice cream and engage in water-related activities.\n",
    "\n",
    "What I learned: Using statistical function like .corr() to compute the correlation and rolling().std() to compute the volatility. "
   ]
  },
  {
   "cell_type": "code",
   "execution_count": 184,
   "metadata": {
    "id": "-2YUtUESwwgv"
   },
   "outputs": [
    {
     "data": {
      "text/html": [
       "<div>\n",
       "<style scoped>\n",
       "    .dataframe tbody tr th:only-of-type {\n",
       "        vertical-align: middle;\n",
       "    }\n",
       "\n",
       "    .dataframe tbody tr th {\n",
       "        vertical-align: top;\n",
       "    }\n",
       "\n",
       "    .dataframe thead th {\n",
       "        text-align: right;\n",
       "    }\n",
       "</style>\n",
       "<table border=\"1\" class=\"dataframe\">\n",
       "  <thead>\n",
       "    <tr style=\"text-align: right;\">\n",
       "      <th></th>\n",
       "      <th></th>\n",
       "      <th>Count</th>\n",
       "      <th>Total</th>\n",
       "      <th>Percent</th>\n",
       "      <th>Rank</th>\n",
       "    </tr>\n",
       "    <tr>\n",
       "      <th>Event</th>\n",
       "      <th></th>\n",
       "      <th></th>\n",
       "      <th></th>\n",
       "      <th></th>\n",
       "      <th></th>\n",
       "    </tr>\n",
       "  </thead>\n",
       "  <tbody>\n",
       "    <tr>\n",
       "      <th>Cold/wind Chill</th>\n",
       "      <th>2025</th>\n",
       "      <td>2</td>\n",
       "      <td>13</td>\n",
       "      <td>15.384615</td>\n",
       "      <td>3</td>\n",
       "    </tr>\n",
       "    <tr>\n",
       "      <th>Drought</th>\n",
       "      <th>2024</th>\n",
       "      <td>2</td>\n",
       "      <td>197</td>\n",
       "      <td>1.015228</td>\n",
       "      <td>10</td>\n",
       "    </tr>\n",
       "    <tr>\n",
       "      <th>Flash Flood</th>\n",
       "      <th>2024</th>\n",
       "      <td>4</td>\n",
       "      <td>197</td>\n",
       "      <td>2.030457</td>\n",
       "      <td>7</td>\n",
       "    </tr>\n",
       "    <tr>\n",
       "      <th rowspan=\"2\" valign=\"top\">Flood</th>\n",
       "      <th>2024</th>\n",
       "      <td>18</td>\n",
       "      <td>197</td>\n",
       "      <td>9.137056</td>\n",
       "      <td>3</td>\n",
       "    </tr>\n",
       "    <tr>\n",
       "      <th>2025</th>\n",
       "      <td>5</td>\n",
       "      <td>13</td>\n",
       "      <td>38.461538</td>\n",
       "      <td>2</td>\n",
       "    </tr>\n",
       "    <tr>\n",
       "      <th>Hail</th>\n",
       "      <th>2024</th>\n",
       "      <td>35</td>\n",
       "      <td>197</td>\n",
       "      <td>17.766497</td>\n",
       "      <td>2</td>\n",
       "    </tr>\n",
       "    <tr>\n",
       "      <th>Heavy Rain</th>\n",
       "      <th>2024</th>\n",
       "      <td>4</td>\n",
       "      <td>197</td>\n",
       "      <td>2.030457</td>\n",
       "      <td>7</td>\n",
       "    </tr>\n",
       "    <tr>\n",
       "      <th>High Wind</th>\n",
       "      <th>2024</th>\n",
       "      <td>9</td>\n",
       "      <td>197</td>\n",
       "      <td>4.568528</td>\n",
       "      <td>5</td>\n",
       "    </tr>\n",
       "    <tr>\n",
       "      <th>Rip Current</th>\n",
       "      <th>2024</th>\n",
       "      <td>4</td>\n",
       "      <td>197</td>\n",
       "      <td>2.030457</td>\n",
       "      <td>7</td>\n",
       "    </tr>\n",
       "    <tr>\n",
       "      <th>Seiche</th>\n",
       "      <th>2024</th>\n",
       "      <td>2</td>\n",
       "      <td>197</td>\n",
       "      <td>1.015228</td>\n",
       "      <td>10</td>\n",
       "    </tr>\n",
       "    <tr>\n",
       "      <th>Strong Wind</th>\n",
       "      <th>2024</th>\n",
       "      <td>1</td>\n",
       "      <td>197</td>\n",
       "      <td>0.507614</td>\n",
       "      <td>12</td>\n",
       "    </tr>\n",
       "    <tr>\n",
       "      <th>Thunderstorm Wind</th>\n",
       "      <th>2024</th>\n",
       "      <td>99</td>\n",
       "      <td>197</td>\n",
       "      <td>50.253807</td>\n",
       "      <td>1</td>\n",
       "    </tr>\n",
       "    <tr>\n",
       "      <th>Tornado</th>\n",
       "      <th>2024</th>\n",
       "      <td>17</td>\n",
       "      <td>197</td>\n",
       "      <td>8.629442</td>\n",
       "      <td>4</td>\n",
       "    </tr>\n",
       "    <tr>\n",
       "      <th rowspan=\"2\" valign=\"top\">Winter Weather</th>\n",
       "      <th>2024</th>\n",
       "      <td>2</td>\n",
       "      <td>197</td>\n",
       "      <td>1.015228</td>\n",
       "      <td>10</td>\n",
       "    </tr>\n",
       "    <tr>\n",
       "      <th>2025</th>\n",
       "      <td>6</td>\n",
       "      <td>13</td>\n",
       "      <td>46.153846</td>\n",
       "      <td>1</td>\n",
       "    </tr>\n",
       "  </tbody>\n",
       "</table>\n",
       "</div>"
      ],
      "text/plain": [
       "                        Count  Total    Percent  Rank\n",
       "Event                                                \n",
       "Cold/wind Chill   2025      2     13  15.384615     3\n",
       "Drought           2024      2    197   1.015228    10\n",
       "Flash Flood       2024      4    197   2.030457     7\n",
       "Flood             2024     18    197   9.137056     3\n",
       "                  2025      5     13  38.461538     2\n",
       "Hail              2024     35    197  17.766497     2\n",
       "Heavy Rain        2024      4    197   2.030457     7\n",
       "High Wind         2024      9    197   4.568528     5\n",
       "Rip Current       2024      4    197   2.030457     7\n",
       "Seiche            2024      2    197   1.015228    10\n",
       "Strong Wind       2024      1    197   0.507614    12\n",
       "Thunderstorm Wind 2024     99    197  50.253807     1\n",
       "Tornado           2024     17    197   8.629442     4\n",
       "Winter Weather    2024      2    197   1.015228    10\n",
       "                  2025      6     13  46.153846     1"
      ]
     },
     "execution_count": 184,
     "metadata": {},
     "output_type": "execute_result"
    }
   ],
   "source": [
    "def insight5():\n",
    "    df = web_parser1(\"https://www.ncdc.noaa.gov/stormevents/listevents.jsp?eventType=ALL&beginDate_mm=02&beginDate_dd=01&beginDate_yyyy=2024&endDate_mm=02&endDate_dd=28&endDate_yyyy=2025&county=COOK%3A31&hailfilter=0.00&tornfilter=0&windfilter=000&sort=DT&submitbutton=Search&statefips=17%2CILLINOIS\")\n",
    "    df.index = df.index.strftime(\"%Y\")\n",
    "    df = pd.DataFrame(df.groupby([\"Event\", df.index])[\"Event\"].count())\n",
    "    df.rename(columns={\"Event\":\"Count\"}, inplace=True)\n",
    "\n",
    "    df[\"Total\"] = df.groupby(level=1)[\"Count\"].transform(\"sum\")\n",
    "    df[\"Percent\"] = df[\"Count\"] / df[\"Total\"] * 100\n",
    "\n",
    "    # Rank each event \n",
    "    df[\"Rank\"] = df.groupby(level=1)[\"Count\"].rank(ascending=False)\n",
    "    df[\"Rank\"] = df[\"Rank\"].astype(int)\n",
    "    return df\n",
    "############ Function Call ############\n",
    "insight5()"
   ]
  },
  {
   "cell_type": "markdown",
   "metadata": {
    "id": "JabcFGP9xIyn"
   },
   "source": [
    "### Insight 5 Explanation\n",
    "\n",
    "Insert explanation here: From February 2024 through February 2025 in Cook County, convective storm events especially thunderstorm wind, hail, and flooding dominated over 75% of all recorded weather incidents during the corn‐growing season, while winter hazards start to increase in early 2025. \n",
    "\n",
    "This tells us that, for our analysis of corn‐price volatility, the primary short‑term risk drivers are summer‑season, high‑intensity convective storms rather than drought or winter cold. Recognizing which weather threats concentrate most heavily and when would allows market analysts and risk managers to target their hedging and insurance strategies far more effectively, allocating resources to the hazards that truly move the needle on supply disruptions and price swings.\n",
    "\n",
    "What I learned: How to use .rank(), .transform() and grouping by level in DataFrame (See more in Groupby Documentation)"
   ]
  },
  {
   "cell_type": "markdown",
   "metadata": {
    "id": "xN58r5MNxN4m"
   },
   "source": [
    "## Data Visualizations"
   ]
  },
  {
   "cell_type": "code",
   "execution_count": 87,
   "metadata": {
    "id": "stKXZGSnxS0f"
   },
   "outputs": [
    {
     "data": {
      "image/png": "[encoded data removed]",
      "text/plain": [
       "<Figure size 1600x600 with 2 Axes>"
      ]
     },
     "metadata": {},
     "output_type": "display_data"
    },
    {
     "data": {
      "text/plain": [
       "<Figure size 2200x1000 with 0 Axes>"
      ]
     },
     "metadata": {},
     "output_type": "display_data"
    }
   ],
   "source": [
    "import matplotlib.pyplot as plt\n",
    "df = extra_source1(\"corn_price.csv\")\n",
    "\n",
    "def visual1():\n",
    "    figure, axis = plt.subplots(1, 2, figsize = (16,6), sharex=True, dpi=100)\n",
    "\n",
    "    X = df.index\n",
    "    \n",
    "    axis[0].plot(X, df[\"Price\"], color=\"black\", label=\"Price\")\n",
    "    axis[0].plot(X, df[\"Price\"].rolling(20).mean(), color=\"red\", label=\"Rolling Average\")\n",
    "    axis[0].plot(X, df[\"Price\"].rolling(20).std(), color=\"blue\", label=\"Rolling std\")\n",
    "    axis[0].set_title(\"Corn Price \\n Non constant mean, and Non constant variance\")\n",
    "    axis[0].set_xlabel(\"Date\")\n",
    "    axis[0].legend()\n",
    "\n",
    "    axis[1].plot(X, df[\"price_log_diff\"], color=\"black\", label=\"Logarithmic difference\")\n",
    "    axis[1].plot(X, df[\"price_log_diff\"].rolling(20).mean(), color=\"red\", label=\"Rolling Average\")\n",
    "    axis[1].plot(X, df[\"price_log_diff\"].rolling(20).std(), color=\"blue\", label=\"Rolling std\")\n",
    "    axis[1].set_title(\"Corn Price after log-difference transformation \\n Constant mean, and Constant variance\")\n",
    "    axis[1].set_xlabel(\"Date\")\n",
    "    axis[1].legend()\n",
    "    plt.figure(figsize=(22,10))\n",
    "    plt.show()\n",
    "\n",
    "############ Function Call ############\n",
    "visual1()"
   ]
  },
  {
   "cell_type": "markdown",
   "metadata": {
    "id": "-CDB8hXwxgSB"
   },
   "source": [
    "### Visualization 1 Explanation\n",
    "\n",
    "Insert explanation here: The graph on the left shows that corn prices fluctuate significantly over time, with no consistent mean or variance. This behavior indicates that the raw price data is non-stationary, meaning statistical properties like mean and variance change over time. \n",
    "\n",
    "Conclusion: the dataset is influenced by long-term trends, seasonality, and possibly external shocks (e.g. weather, policy, demand changes).\n",
    "\n",
    "The graph on the right, which shows the log-differenced prices along with the rolling average and rolling standard deviation, illustrates a more stable pattern. Both the rolling mean and standard deviation remain relatively constant over time, suggesting that the transformed data is stationary. \n",
    "\n",
    "Conclusion: The data has a constant mean and variance, making it suitable for many statistical modeling techniques, such as time series forecasting using ARIMA."
   ]
  },
  {
   "cell_type": "code",
   "execution_count": 143,
   "metadata": {
    "id": "vACib_mBxW0E"
   },
   "outputs": [
    {
     "data": {
      "application/vnd.plotly.v1+json": {
       "config": {
        "plotlyServerURL": "https://plot.ly"
       },
       "data": [
        {
         "alignmentgroup": "True",
         "hovertemplate": "Event=Flood<br>Date=%{x}<br>Number of events=%{y}<extra></extra>",
         "legendgroup": "Flood",
         "marker": {
          "color": "#636efa",
          "pattern": {
           "shape": ""
          }
         },
         "name": "Flood",
         "offsetgroup": "Flood",
         "orientation": "v",
         "showlegend": true,
         "textposition": "auto",
         "type": "bar",
         "x": [
          "2024-02",
          "2024-03",
          "2024-05",
          "2024-06",
          "2024-07",
          "2024-09",
          "2025-01"
         ],
         "xaxis": "x",
         "y": [
          1,
          3,
          5,
          1,
          6,
          2,
          5
         ],
         "yaxis": "y"
        },
        {
         "alignmentgroup": "True",
         "hovertemplate": "Event=Hail<br>Date=%{x}<br>Number of events=%{y}<extra></extra>",
         "legendgroup": "Hail",
         "marker": {
          "color": "#EF553B",
          "pattern": {
           "shape": ""
          }
         },
         "name": "Hail",
         "offsetgroup": "Hail",
         "orientation": "v",
         "showlegend": true,
         "textposition": "auto",
         "type": "bar",
         "x": [
          "2024-02",
          "2024-03",
          "2024-05",
          "2024-08"
         ],
         "xaxis": "x",
         "y": [
          12,
          1,
          20,
          2
         ],
         "yaxis": "y"
        },
        {
         "alignmentgroup": "True",
         "hovertemplate": "Event=Thunderstorm Wind<br>Date=%{x}<br>Number of events=%{y}<extra></extra>",
         "legendgroup": "Thunderstorm Wind",
         "marker": {
          "color": "#00cc96",
          "pattern": {
           "shape": ""
          }
         },
         "name": "Thunderstorm Wind",
         "offsetgroup": "Thunderstorm Wind",
         "orientation": "v",
         "showlegend": true,
         "textposition": "auto",
         "type": "bar",
         "x": [
          "2024-02",
          "2024-03",
          "2024-05",
          "2024-06",
          "2024-07",
          "2024-08"
         ],
         "xaxis": "x",
         "y": [
          12,
          2,
          17,
          11,
          45,
          12
         ],
         "yaxis": "y"
        },
        {
         "alignmentgroup": "True",
         "hovertemplate": "Event=Tornado<br>Date=%{x}<br>Number of events=%{y}<extra></extra>",
         "legendgroup": "Tornado",
         "marker": {
          "color": "#ab63fa",
          "pattern": {
           "shape": ""
          }
         },
         "name": "Tornado",
         "offsetgroup": "Tornado",
         "orientation": "v",
         "showlegend": true,
         "textposition": "auto",
         "type": "bar",
         "x": [
          "2024-02",
          "2024-07"
         ],
         "xaxis": "x",
         "y": [
          3,
          14
         ],
         "yaxis": "y"
        },
        {
         "alignmentgroup": "True",
         "hovertemplate": "Event=Flash Flood<br>Date=%{x}<br>Number of events=%{y}<extra></extra>",
         "legendgroup": "Flash Flood",
         "marker": {
          "color": "#FFA15A",
          "pattern": {
           "shape": ""
          }
         },
         "name": "Flash Flood",
         "offsetgroup": "Flash Flood",
         "orientation": "v",
         "showlegend": true,
         "textposition": "auto",
         "type": "bar",
         "x": [
          "2024-05",
          "2024-06",
          "2024-07"
         ],
         "xaxis": "x",
         "y": [
          1,
          2,
          1
         ],
         "yaxis": "y"
        },
        {
         "alignmentgroup": "True",
         "hovertemplate": "Event=High Wind<br>Date=%{x}<br>Number of events=%{y}<extra></extra>",
         "legendgroup": "High Wind",
         "marker": {
          "color": "#19d3f3",
          "pattern": {
           "shape": ""
          }
         },
         "name": "High Wind",
         "offsetgroup": "High Wind",
         "orientation": "v",
         "showlegend": true,
         "textposition": "auto",
         "type": "bar",
         "x": [
          "2024-05",
          "2024-06",
          "2024-12"
         ],
         "xaxis": "x",
         "y": [
          5,
          1,
          3
         ],
         "yaxis": "y"
        },
        {
         "alignmentgroup": "True",
         "hovertemplate": "Event=Rip Current<br>Date=%{x}<br>Number of events=%{y}<extra></extra>",
         "legendgroup": "Rip Current",
         "marker": {
          "color": "#FF6692",
          "pattern": {
           "shape": ""
          }
         },
         "name": "Rip Current",
         "offsetgroup": "Rip Current",
         "orientation": "v",
         "showlegend": true,
         "textposition": "auto",
         "type": "bar",
         "x": [
          "2024-06",
          "2024-07",
          "2024-08"
         ],
         "xaxis": "x",
         "y": [
          1,
          1,
          2
         ],
         "yaxis": "y"
        },
        {
         "alignmentgroup": "True",
         "hovertemplate": "Event=Strong Wind<br>Date=%{x}<br>Number of events=%{y}<extra></extra>",
         "legendgroup": "Strong Wind",
         "marker": {
          "color": "#B6E880",
          "pattern": {
           "shape": ""
          }
         },
         "name": "Strong Wind",
         "offsetgroup": "Strong Wind",
         "orientation": "v",
         "showlegend": true,
         "textposition": "auto",
         "type": "bar",
         "x": [
          "2024-06"
         ],
         "xaxis": "x",
         "y": [
          1
         ],
         "yaxis": "y"
        },
        {
         "alignmentgroup": "True",
         "hovertemplate": "Event=Heavy Rain<br>Date=%{x}<br>Number of events=%{y}<extra></extra>",
         "legendgroup": "Heavy Rain",
         "marker": {
          "color": "#FF97FF",
          "pattern": {
           "shape": ""
          }
         },
         "name": "Heavy Rain",
         "offsetgroup": "Heavy Rain",
         "orientation": "v",
         "showlegend": true,
         "textposition": "auto",
         "type": "bar",
         "x": [
          "2024-07",
          "2024-09"
         ],
         "xaxis": "x",
         "y": [
          2,
          2
         ],
         "yaxis": "y"
        },
        {
         "alignmentgroup": "True",
         "hovertemplate": "Event=Seiche<br>Date=%{x}<br>Number of events=%{y}<extra></extra>",
         "legendgroup": "Seiche",
         "marker": {
          "color": "#FECB52",
          "pattern": {
           "shape": ""
          }
         },
         "name": "Seiche",
         "offsetgroup": "Seiche",
         "orientation": "v",
         "showlegend": true,
         "textposition": "auto",
         "type": "bar",
         "x": [
          "2024-08"
         ],
         "xaxis": "x",
         "y": [
          2
         ],
         "yaxis": "y"
        },
        {
         "alignmentgroup": "True",
         "hovertemplate": "Event=Drought<br>Date=%{x}<br>Number of events=%{y}<extra></extra>",
         "legendgroup": "Drought",
         "marker": {
          "color": "#636efa",
          "pattern": {
           "shape": ""
          }
         },
         "name": "Drought",
         "offsetgroup": "Drought",
         "orientation": "v",
         "showlegend": true,
         "textposition": "auto",
         "type": "bar",
         "x": [
          "2024-10",
          "2024-11"
         ],
         "xaxis": "x",
         "y": [
          1,
          1
         ],
         "yaxis": "y"
        },
        {
         "alignmentgroup": "True",
         "hovertemplate": "Event=Winter Weather<br>Date=%{x}<br>Number of events=%{y}<extra></extra>",
         "legendgroup": "Winter Weather",
         "marker": {
          "color": "#EF553B",
          "pattern": {
           "shape": ""
          }
         },
         "name": "Winter Weather",
         "offsetgroup": "Winter Weather",
         "orientation": "v",
         "showlegend": true,
         "textposition": "auto",
         "type": "bar",
         "x": [
          "2024-12",
          "2025-02"
         ],
         "xaxis": "x",
         "y": [
          2,
          6
         ],
         "yaxis": "y"
        },
        {
         "alignmentgroup": "True",
         "hovertemplate": "Event=Cold/wind Chill<br>Date=%{x}<br>Number of events=%{y}<extra></extra>",
         "legendgroup": "Cold/wind Chill",
         "marker": {
          "color": "#00cc96",
          "pattern": {
           "shape": ""
          }
         },
         "name": "Cold/wind Chill",
         "offsetgroup": "Cold/wind Chill",
         "orientation": "v",
         "showlegend": true,
         "textposition": "auto",
         "type": "bar",
         "x": [
          "2025-02"
         ],
         "xaxis": "x",
         "y": [
          2
         ],
         "yaxis": "y"
        },
        {
         "line": {
          "color": "crimson"
         },
         "name": "Percent Change for Corn Futures",
         "type": "scatter",
         "x": [
          "2024-02",
          "2024-03",
          "2024-04",
          "2024-05",
          "2024-06",
          "2024-07",
          "2024-08",
          "2024-09",
          "2024-10",
          "2024-11",
          "2024-12",
          "2025-01",
          "2025-02"
         ],
         "y": [
          -4.935744771157136,
          0.6771538701944468,
          0.35370258880214056,
          5.300899887513921,
          -4.864467886232793,
          -7.045162135481709,
          -4.765188295301548,
          8.481607528055601,
          3.2299972604279636,
          6.182021091173651,
          0.7559008066927442,
          5.684547638110193,
          3.216374269006095
         ]
        }
       ],
       "layout": {
        "barmode": "relative",
        "height": 450,
        "legend": {
         "title": {
          "text": "Event"
         },
         "tracegroupgap": 0
        },
        "template": {
         "data": {
          "bar": [
           {
            "error_x": {
             "color": "#2a3f5f"
            },
            "error_y": {
             "color": "#2a3f5f"
            },
            "marker": {
             "line": {
              "color": "#E5ECF6",
              "width": 0.5
             },
             "pattern": {
              "fillmode": "overlay",
              "size": 10,
              "solidity": 0.2
             }
            },
            "type": "bar"
           }
          ],
          "barpolar": [
           {
            "marker": {
             "line": {
              "color": "#E5ECF6",
              "width": 0.5
             },
             "pattern": {
              "fillmode": "overlay",
              "size": 10,
              "solidity": 0.2
             }
            },
            "type": "barpolar"
           }
          ],
          "carpet": [
           {
            "aaxis": {
             "endlinecolor": "#2a3f5f",
             "gridcolor": "white",
             "linecolor": "white",
             "minorgridcolor": "white",
             "startlinecolor": "#2a3f5f"
            },
            "baxis": {
             "endlinecolor": "#2a3f5f",
             "gridcolor": "white",
             "linecolor": "white",
             "minorgridcolor": "white",
             "startlinecolor": "#2a3f5f"
            },
            "type": "carpet"
           }
          ],
          "choropleth": [
           {
            "colorbar": {
             "outlinewidth": 0,
             "ticks": ""
            },
            "type": "choropleth"
           }
          ],
          "contour": [
           {
            "colorbar": {
             "outlinewidth": 0,
             "ticks": ""
            },
            "colorscale": [
             [
              0,
              "#0d0887"
             ],
             [
              0.1111111111111111,
              "#46039f"
             ],
             [
              0.2222222222222222,
              "#7201a8"
             ],
             [
              0.3333333333333333,
              "#9c179e"
             ],
             [
              0.4444444444444444,
              "#bd3786"
             ],
             [
              0.5555555555555556,
              "#d8576b"
             ],
             [
              0.6666666666666666,
              "#ed7953"
             ],
             [
              0.7777777777777778,
              "#fb9f3a"
             ],
             [
              0.8888888888888888,
              "#fdca26"
             ],
             [
              1,
              "#f0f921"
             ]
            ],
            "type": "contour"
           }
          ],
          "contourcarpet": [
           {
            "colorbar": {
             "outlinewidth": 0,
             "ticks": ""
            },
            "type": "contourcarpet"
           }
          ],
          "heatmap": [
           {
            "colorbar": {
             "outlinewidth": 0,
             "ticks": ""
            },
            "colorscale": [
             [
              0,
              "#0d0887"
             ],
             [
              0.1111111111111111,
              "#46039f"
             ],
             [
              0.2222222222222222,
              "#7201a8"
             ],
             [
              0.3333333333333333,
              "#9c179e"
             ],
             [
              0.4444444444444444,
              "#bd3786"
             ],
             [
              0.5555555555555556,
              "#d8576b"
             ],
             [
              0.6666666666666666,
              "#ed7953"
             ],
             [
              0.7777777777777778,
              "#fb9f3a"
             ],
             [
              0.8888888888888888,
              "#fdca26"
             ],
             [
              1,
              "#f0f921"
             ]
            ],
            "type": "heatmap"
           }
          ],
          "heatmapgl": [
           {
            "colorbar": {
             "outlinewidth": 0,
             "ticks": ""
            },
            "colorscale": [
             [
              0,
              "#0d0887"
             ],
             [
              0.1111111111111111,
              "#46039f"
             ],
             [
              0.2222222222222222,
              "#7201a8"
             ],
             [
              0.3333333333333333,
              "#9c179e"
             ],
             [
              0.4444444444444444,
              "#bd3786"
             ],
             [
              0.5555555555555556,
              "#d8576b"
             ],
             [
              0.6666666666666666,
              "#ed7953"
             ],
             [
              0.7777777777777778,
              "#fb9f3a"
             ],
             [
              0.8888888888888888,
              "#fdca26"
             ],
             [
              1,
              "#f0f921"
             ]
            ],
            "type": "heatmapgl"
           }
          ],
          "histogram": [
           {
            "marker": {
             "pattern": {
              "fillmode": "overlay",
              "size": 10,
              "solidity": 0.2
             }
            },
            "type": "histogram"
           }
          ],
          "histogram2d": [
           {
            "colorbar": {
             "outlinewidth": 0,
             "ticks": ""
            },
            "colorscale": [
             [
              0,
              "#0d0887"
             ],
             [
              0.1111111111111111,
              "#46039f"
             ],
             [
              0.2222222222222222,
              "#7201a8"
             ],
             [
              0.3333333333333333,
              "#9c179e"
             ],
             [
              0.4444444444444444,
              "#bd3786"
             ],
             [
              0.5555555555555556,
              "#d8576b"
             ],
             [
              0.6666666666666666,
              "#ed7953"
             ],
             [
              0.7777777777777778,
              "#fb9f3a"
             ],
             [
              0.8888888888888888,
              "#fdca26"
             ],
             [
              1,
              "#f0f921"
             ]
            ],
            "type": "histogram2d"
           }
          ],
          "histogram2dcontour": [
           {
            "colorbar": {
             "outlinewidth": 0,
             "ticks": ""
            },
            "colorscale": [
             [
              0,
              "#0d0887"
             ],
             [
              0.1111111111111111,
              "#46039f"
             ],
             [
              0.2222222222222222,
              "#7201a8"
             ],
             [
              0.3333333333333333,
              "#9c179e"
             ],
             [
              0.4444444444444444,
              "#bd3786"
             ],
             [
              0.5555555555555556,
              "#d8576b"
             ],
             [
              0.6666666666666666,
              "#ed7953"
             ],
             [
              0.7777777777777778,
              "#fb9f3a"
             ],
             [
              0.8888888888888888,
              "#fdca26"
             ],
             [
              1,
              "#f0f921"
             ]
            ],
            "type": "histogram2dcontour"
           }
          ],
          "mesh3d": [
           {
            "colorbar": {
             "outlinewidth": 0,
             "ticks": ""
            },
            "type": "mesh3d"
           }
          ],
          "parcoords": [
           {
            "line": {
             "colorbar": {
              "outlinewidth": 0,
              "ticks": ""
             }
            },
            "type": "parcoords"
           }
          ],
          "pie": [
           {
            "automargin": true,
            "type": "pie"
           }
          ],
          "scatter": [
           {
            "fillpattern": {
             "fillmode": "overlay",
             "size": 10,
             "solidity": 0.2
            },
            "type": "scatter"
           }
          ],
          "scatter3d": [
           {
            "line": {
             "colorbar": {
              "outlinewidth": 0,
              "ticks": ""
             }
            },
            "marker": {
             "colorbar": {
              "outlinewidth": 0,
              "ticks": ""
             }
            },
            "type": "scatter3d"
           }
          ],
          "scattercarpet": [
           {
            "marker": {
             "colorbar": {
              "outlinewidth": 0,
              "ticks": ""
             }
            },
            "type": "scattercarpet"
           }
          ],
          "scattergeo": [
           {
            "marker": {
             "colorbar": {
              "outlinewidth": 0,
              "ticks": ""
             }
            },
            "type": "scattergeo"
           }
          ],
          "scattergl": [
           {
            "marker": {
             "colorbar": {
              "outlinewidth": 0,
              "ticks": ""
             }
            },
            "type": "scattergl"
           }
          ],
          "scattermapbox": [
           {
            "marker": {
             "colorbar": {
              "outlinewidth": 0,
              "ticks": ""
             }
            },
            "type": "scattermapbox"
           }
          ],
          "scatterpolar": [
           {
            "marker": {
             "colorbar": {
              "outlinewidth": 0,
              "ticks": ""
             }
            },
            "type": "scatterpolar"
           }
          ],
          "scatterpolargl": [
           {
            "marker": {
             "colorbar": {
              "outlinewidth": 0,
              "ticks": ""
             }
            },
            "type": "scatterpolargl"
           }
          ],
          "scatterternary": [
           {
            "marker": {
             "colorbar": {
              "outlinewidth": 0,
              "ticks": ""
             }
            },
            "type": "scatterternary"
           }
          ],
          "surface": [
           {
            "colorbar": {
             "outlinewidth": 0,
             "ticks": ""
            },
            "colorscale": [
             [
              0,
              "#0d0887"
             ],
             [
              0.1111111111111111,
              "#46039f"
             ],
             [
              0.2222222222222222,
              "#7201a8"
             ],
             [
              0.3333333333333333,
              "#9c179e"
             ],
             [
              0.4444444444444444,
              "#bd3786"
             ],
             [
              0.5555555555555556,
              "#d8576b"
             ],
             [
              0.6666666666666666,
              "#ed7953"
             ],
             [
              0.7777777777777778,
              "#fb9f3a"
             ],
             [
              0.8888888888888888,
              "#fdca26"
             ],
             [
              1,
              "#f0f921"
             ]
            ],
            "type": "surface"
           }
          ],
          "table": [
           {
            "cells": {
             "fill": {
              "color": "#EBF0F8"
             },
             "line": {
              "color": "white"
             }
            },
            "header": {
             "fill": {
              "color": "#C8D4E3"
             },
             "line": {
              "color": "white"
             }
            },
            "type": "table"
           }
          ]
         },
         "layout": {
          "annotationdefaults": {
           "arrowcolor": "#2a3f5f",
           "arrowhead": 0,
           "arrowwidth": 1
          },
          "autotypenumbers": "strict",
          "coloraxis": {
           "colorbar": {
            "outlinewidth": 0,
            "ticks": ""
           }
          },
          "colorscale": {
           "diverging": [
            [
             0,
             "#8e0152"
            ],
            [
             0.1,
             "#c51b7d"
            ],
            [
             0.2,
             "#de77ae"
            ],
            [
             0.3,
             "#f1b6da"
            ],
            [
             0.4,
             "#fde0ef"
            ],
            [
             0.5,
             "#f7f7f7"
            ],
            [
             0.6,
             "#e6f5d0"
            ],
            [
             0.7,
             "#b8e186"
            ],
            [
             0.8,
             "#7fbc41"
            ],
            [
             0.9,
             "#4d9221"
            ],
            [
             1,
             "#276419"
            ]
           ],
           "sequential": [
            [
             0,
             "#0d0887"
            ],
            [
             0.1111111111111111,
             "#46039f"
            ],
            [
             0.2222222222222222,
             "#7201a8"
            ],
            [
             0.3333333333333333,
             "#9c179e"
            ],
            [
             0.4444444444444444,
             "#bd3786"
            ],
            [
             0.5555555555555556,
             "#d8576b"
            ],
            [
             0.6666666666666666,
             "#ed7953"
            ],
            [
             0.7777777777777778,
             "#fb9f3a"
            ],
            [
             0.8888888888888888,
             "#fdca26"
            ],
            [
             1,
             "#f0f921"
            ]
           ],
           "sequentialminus": [
            [
             0,
             "#0d0887"
            ],
            [
             0.1111111111111111,
             "#46039f"
            ],
            [
             0.2222222222222222,
             "#7201a8"
            ],
            [
             0.3333333333333333,
             "#9c179e"
            ],
            [
             0.4444444444444444,
             "#bd3786"
            ],
            [
             0.5555555555555556,
             "#d8576b"
            ],
            [
             0.6666666666666666,
             "#ed7953"
            ],
            [
             0.7777777777777778,
             "#fb9f3a"
            ],
            [
             0.8888888888888888,
             "#fdca26"
            ],
            [
             1,
             "#f0f921"
            ]
           ]
          },
          "colorway": [
           "#636efa",
           "#EF553B",
           "#00cc96",
           "#ab63fa",
           "#FFA15A",
           "#19d3f3",
           "#FF6692",
           "#B6E880",
           "#FF97FF",
           "#FECB52"
          ],
          "font": {
           "color": "#2a3f5f"
          },
          "geo": {
           "bgcolor": "white",
           "lakecolor": "white",
           "landcolor": "#E5ECF6",
           "showlakes": true,
           "showland": true,
           "subunitcolor": "white"
          },
          "hoverlabel": {
           "align": "left"
          },
          "hovermode": "closest",
          "mapbox": {
           "style": "light"
          },
          "paper_bgcolor": "white",
          "plot_bgcolor": "#E5ECF6",
          "polar": {
           "angularaxis": {
            "gridcolor": "white",
            "linecolor": "white",
            "ticks": ""
           },
           "bgcolor": "#E5ECF6",
           "radialaxis": {
            "gridcolor": "white",
            "linecolor": "white",
            "ticks": ""
           }
          },
          "scene": {
           "xaxis": {
            "backgroundcolor": "#E5ECF6",
            "gridcolor": "white",
            "gridwidth": 2,
            "linecolor": "white",
            "showbackground": true,
            "ticks": "",
            "zerolinecolor": "white"
           },
           "yaxis": {
            "backgroundcolor": "#E5ECF6",
            "gridcolor": "white",
            "gridwidth": 2,
            "linecolor": "white",
            "showbackground": true,
            "ticks": "",
            "zerolinecolor": "white"
           },
           "zaxis": {
            "backgroundcolor": "#E5ECF6",
            "gridcolor": "white",
            "gridwidth": 2,
            "linecolor": "white",
            "showbackground": true,
            "ticks": "",
            "zerolinecolor": "white"
           }
          },
          "shapedefaults": {
           "line": {
            "color": "#2a3f5f"
           }
          },
          "ternary": {
           "aaxis": {
            "gridcolor": "white",
            "linecolor": "white",
            "ticks": ""
           },
           "baxis": {
            "gridcolor": "white",
            "linecolor": "white",
            "ticks": ""
           },
           "bgcolor": "#E5ECF6",
           "caxis": {
            "gridcolor": "white",
            "linecolor": "white",
            "ticks": ""
           }
          },
          "title": {
           "x": 0.05
          },
          "xaxis": {
           "automargin": true,
           "gridcolor": "white",
           "linecolor": "white",
           "ticks": "",
           "title": {
            "standoff": 15
           },
           "zerolinecolor": "white",
           "zerolinewidth": 2
          },
          "yaxis": {
           "automargin": true,
           "gridcolor": "white",
           "linecolor": "white",
           "ticks": "",
           "title": {
            "standoff": 15
           },
           "zerolinecolor": "white",
           "zerolinewidth": 2
          }
         }
        },
        "title": {
         "text": "Distribution of Events vs Percent change of Corn Futures"
        },
        "width": 1050,
        "xaxis": {
         "anchor": "y",
         "autorange": true,
         "domain": [
          0,
          1
         ],
         "range": [
          "2024-01-09 05:17:22.9259",
          "2025-02-23 18:42:37.0741"
         ],
         "title": {
          "text": "Date"
         },
         "type": "date"
        },
        "yaxis": {
         "anchor": "x",
         "autorange": true,
         "domain": [
          0,
          1
         ],
         "range": [
          -12.52804216405876,
          73.29094958758203
         ],
         "title": {
          "text": "Number of Events"
         },
         "type": "linear"
        }
       }
      },
      "image/png": "[encoded data removed]",
      "text/html": [
       "<div>                            <div id=\"8468aa68-9ea0-4398-97e5-3d206ddcff62\" class=\"plotly-graph-div\" style=\"height:450px; width:1050px;\"></div>            <script type=\"text/javascript\">                require([\"plotly\"], function(Plotly) {                    window.PLOTLYENV=window.PLOTLYENV || {};                                    if (document.getElementById(\"8468aa68-9ea0-4398-97e5-3d206ddcff62\")) {                    Plotly.newPlot(                        \"8468aa68-9ea0-4398-97e5-3d206ddcff62\",                        [{\"alignmentgroup\":\"True\",\"hovertemplate\":\"Event=Flood\\u003cbr\\u003eDate=%{x}\\u003cbr\\u003eNumber of events=%{y}\\u003cextra\\u003e\\u003c\\u002fextra\\u003e\",\"legendgroup\":\"Flood\",\"marker\":{\"color\":\"#636efa\",\"pattern\":{\"shape\":\"\"}},\"name\":\"Flood\",\"offsetgroup\":\"Flood\",\"orientation\":\"v\",\"showlegend\":true,\"textposition\":\"auto\",\"x\":[\"2024-02\",\"2024-03\",\"2024-05\",\"2024-06\",\"2024-07\",\"2024-09\",\"2025-01\"],\"xaxis\":\"x\",\"y\":[1,3,5,1,6,2,5],\"yaxis\":\"y\",\"type\":\"bar\"},{\"alignmentgroup\":\"True\",\"hovertemplate\":\"Event=Hail\\u003cbr\\u003eDate=%{x}\\u003cbr\\u003eNumber of events=%{y}\\u003cextra\\u003e\\u003c\\u002fextra\\u003e\",\"legendgroup\":\"Hail\",\"marker\":{\"color\":\"#EF553B\",\"pattern\":{\"shape\":\"\"}},\"name\":\"Hail\",\"offsetgroup\":\"Hail\",\"orientation\":\"v\",\"showlegend\":true,\"textposition\":\"auto\",\"x\":[\"2024-02\",\"2024-03\",\"2024-05\",\"2024-08\"],\"xaxis\":\"x\",\"y\":[12,1,20,2],\"yaxis\":\"y\",\"type\":\"bar\"},{\"alignmentgroup\":\"True\",\"hovertemplate\":\"Event=Thunderstorm Wind\\u003cbr\\u003eDate=%{x}\\u003cbr\\u003eNumber of events=%{y}\\u003cextra\\u003e\\u003c\\u002fextra\\u003e\",\"legendgroup\":\"Thunderstorm Wind\",\"marker\":{\"color\":\"#00cc96\",\"pattern\":{\"shape\":\"\"}},\"name\":\"Thunderstorm Wind\",\"offsetgroup\":\"Thunderstorm Wind\",\"orientation\":\"v\",\"showlegend\":true,\"textposition\":\"auto\",\"x\":[\"2024-02\",\"2024-03\",\"2024-05\",\"2024-06\",\"2024-07\",\"2024-08\"],\"xaxis\":\"x\",\"y\":[12,2,17,11,45,12],\"yaxis\":\"y\",\"type\":\"bar\"},{\"alignmentgroup\":\"True\",\"hovertemplate\":\"Event=Tornado\\u003cbr\\u003eDate=%{x}\\u003cbr\\u003eNumber of events=%{y}\\u003cextra\\u003e\\u003c\\u002fextra\\u003e\",\"legendgroup\":\"Tornado\",\"marker\":{\"color\":\"#ab63fa\",\"pattern\":{\"shape\":\"\"}},\"name\":\"Tornado\",\"offsetgroup\":\"Tornado\",\"orientation\":\"v\",\"showlegend\":true,\"textposition\":\"auto\",\"x\":[\"2024-02\",\"2024-07\"],\"xaxis\":\"x\",\"y\":[3,14],\"yaxis\":\"y\",\"type\":\"bar\"},{\"alignmentgroup\":\"True\",\"hovertemplate\":\"Event=Flash Flood\\u003cbr\\u003eDate=%{x}\\u003cbr\\u003eNumber of events=%{y}\\u003cextra\\u003e\\u003c\\u002fextra\\u003e\",\"legendgroup\":\"Flash Flood\",\"marker\":{\"color\":\"#FFA15A\",\"pattern\":{\"shape\":\"\"}},\"name\":\"Flash Flood\",\"offsetgroup\":\"Flash Flood\",\"orientation\":\"v\",\"showlegend\":true,\"textposition\":\"auto\",\"x\":[\"2024-05\",\"2024-06\",\"2024-07\"],\"xaxis\":\"x\",\"y\":[1,2,1],\"yaxis\":\"y\",\"type\":\"bar\"},{\"alignmentgroup\":\"True\",\"hovertemplate\":\"Event=High Wind\\u003cbr\\u003eDate=%{x}\\u003cbr\\u003eNumber of events=%{y}\\u003cextra\\u003e\\u003c\\u002fextra\\u003e\",\"legendgroup\":\"High Wind\",\"marker\":{\"color\":\"#19d3f3\",\"pattern\":{\"shape\":\"\"}},\"name\":\"High Wind\",\"offsetgroup\":\"High Wind\",\"orientation\":\"v\",\"showlegend\":true,\"textposition\":\"auto\",\"x\":[\"2024-05\",\"2024-06\",\"2024-12\"],\"xaxis\":\"x\",\"y\":[5,1,3],\"yaxis\":\"y\",\"type\":\"bar\"},{\"alignmentgroup\":\"True\",\"hovertemplate\":\"Event=Rip Current\\u003cbr\\u003eDate=%{x}\\u003cbr\\u003eNumber of events=%{y}\\u003cextra\\u003e\\u003c\\u002fextra\\u003e\",\"legendgroup\":\"Rip Current\",\"marker\":{\"color\":\"#FF6692\",\"pattern\":{\"shape\":\"\"}},\"name\":\"Rip Current\",\"offsetgroup\":\"Rip Current\",\"orientation\":\"v\",\"showlegend\":true,\"textposition\":\"auto\",\"x\":[\"2024-06\",\"2024-07\",\"2024-08\"],\"xaxis\":\"x\",\"y\":[1,1,2],\"yaxis\":\"y\",\"type\":\"bar\"},{\"alignmentgroup\":\"True\",\"hovertemplate\":\"Event=Strong Wind\\u003cbr\\u003eDate=%{x}\\u003cbr\\u003eNumber of events=%{y}\\u003cextra\\u003e\\u003c\\u002fextra\\u003e\",\"legendgroup\":\"Strong Wind\",\"marker\":{\"color\":\"#B6E880\",\"pattern\":{\"shape\":\"\"}},\"name\":\"Strong Wind\",\"offsetgroup\":\"Strong Wind\",\"orientation\":\"v\",\"showlegend\":true,\"textposition\":\"auto\",\"x\":[\"2024-06\"],\"xaxis\":\"x\",\"y\":[1],\"yaxis\":\"y\",\"type\":\"bar\"},{\"alignmentgroup\":\"True\",\"hovertemplate\":\"Event=Heavy Rain\\u003cbr\\u003eDate=%{x}\\u003cbr\\u003eNumber of events=%{y}\\u003cextra\\u003e\\u003c\\u002fextra\\u003e\",\"legendgroup\":\"Heavy Rain\",\"marker\":{\"color\":\"#FF97FF\",\"pattern\":{\"shape\":\"\"}},\"name\":\"Heavy Rain\",\"offsetgroup\":\"Heavy Rain\",\"orientation\":\"v\",\"showlegend\":true,\"textposition\":\"auto\",\"x\":[\"2024-07\",\"2024-09\"],\"xaxis\":\"x\",\"y\":[2,2],\"yaxis\":\"y\",\"type\":\"bar\"},{\"alignmentgroup\":\"True\",\"hovertemplate\":\"Event=Seiche\\u003cbr\\u003eDate=%{x}\\u003cbr\\u003eNumber of events=%{y}\\u003cextra\\u003e\\u003c\\u002fextra\\u003e\",\"legendgroup\":\"Seiche\",\"marker\":{\"color\":\"#FECB52\",\"pattern\":{\"shape\":\"\"}},\"name\":\"Seiche\",\"offsetgroup\":\"Seiche\",\"orientation\":\"v\",\"showlegend\":true,\"textposition\":\"auto\",\"x\":[\"2024-08\"],\"xaxis\":\"x\",\"y\":[2],\"yaxis\":\"y\",\"type\":\"bar\"},{\"alignmentgroup\":\"True\",\"hovertemplate\":\"Event=Drought\\u003cbr\\u003eDate=%{x}\\u003cbr\\u003eNumber of events=%{y}\\u003cextra\\u003e\\u003c\\u002fextra\\u003e\",\"legendgroup\":\"Drought\",\"marker\":{\"color\":\"#636efa\",\"pattern\":{\"shape\":\"\"}},\"name\":\"Drought\",\"offsetgroup\":\"Drought\",\"orientation\":\"v\",\"showlegend\":true,\"textposition\":\"auto\",\"x\":[\"2024-10\",\"2024-11\"],\"xaxis\":\"x\",\"y\":[1,1],\"yaxis\":\"y\",\"type\":\"bar\"},{\"alignmentgroup\":\"True\",\"hovertemplate\":\"Event=Winter Weather\\u003cbr\\u003eDate=%{x}\\u003cbr\\u003eNumber of events=%{y}\\u003cextra\\u003e\\u003c\\u002fextra\\u003e\",\"legendgroup\":\"Winter Weather\",\"marker\":{\"color\":\"#EF553B\",\"pattern\":{\"shape\":\"\"}},\"name\":\"Winter Weather\",\"offsetgroup\":\"Winter Weather\",\"orientation\":\"v\",\"showlegend\":true,\"textposition\":\"auto\",\"x\":[\"2024-12\",\"2025-02\"],\"xaxis\":\"x\",\"y\":[2,6],\"yaxis\":\"y\",\"type\":\"bar\"},{\"alignmentgroup\":\"True\",\"hovertemplate\":\"Event=Cold\\u002fwind Chill\\u003cbr\\u003eDate=%{x}\\u003cbr\\u003eNumber of events=%{y}\\u003cextra\\u003e\\u003c\\u002fextra\\u003e\",\"legendgroup\":\"Cold\\u002fwind Chill\",\"marker\":{\"color\":\"#00cc96\",\"pattern\":{\"shape\":\"\"}},\"name\":\"Cold\\u002fwind Chill\",\"offsetgroup\":\"Cold\\u002fwind Chill\",\"orientation\":\"v\",\"showlegend\":true,\"textposition\":\"auto\",\"x\":[\"2025-02\"],\"xaxis\":\"x\",\"y\":[2],\"yaxis\":\"y\",\"type\":\"bar\"},{\"line\":{\"color\":\"crimson\"},\"name\":\"Percent Change for Corn Futures\",\"x\":[\"2024-02\",\"2024-03\",\"2024-04\",\"2024-05\",\"2024-06\",\"2024-07\",\"2024-08\",\"2024-09\",\"2024-10\",\"2024-11\",\"2024-12\",\"2025-01\",\"2025-02\"],\"y\":[-4.935744771157136,0.6771538701944468,0.35370258880214056,5.300899887513921,-4.864467886232793,-7.045162135481709,-4.765188295301548,8.481607528055601,3.2299972604279636,6.182021091173651,0.7559008066927442,5.684547638110193,3.216374269006095],\"type\":\"scatter\"}],                        {\"template\":{\"data\":{\"histogram2dcontour\":[{\"type\":\"histogram2dcontour\",\"colorbar\":{\"outlinewidth\":0,\"ticks\":\"\"},\"colorscale\":[[0.0,\"#0d0887\"],[0.1111111111111111,\"#46039f\"],[0.2222222222222222,\"#7201a8\"],[0.3333333333333333,\"#9c179e\"],[0.4444444444444444,\"#bd3786\"],[0.5555555555555556,\"#d8576b\"],[0.6666666666666666,\"#ed7953\"],[0.7777777777777778,\"#fb9f3a\"],[0.8888888888888888,\"#fdca26\"],[1.0,\"#f0f921\"]]}],\"choropleth\":[{\"type\":\"choropleth\",\"colorbar\":{\"outlinewidth\":0,\"ticks\":\"\"}}],\"histogram2d\":[{\"type\":\"histogram2d\",\"colorbar\":{\"outlinewidth\":0,\"ticks\":\"\"},\"colorscale\":[[0.0,\"#0d0887\"],[0.1111111111111111,\"#46039f\"],[0.2222222222222222,\"#7201a8\"],[0.3333333333333333,\"#9c179e\"],[0.4444444444444444,\"#bd3786\"],[0.5555555555555556,\"#d8576b\"],[0.6666666666666666,\"#ed7953\"],[0.7777777777777778,\"#fb9f3a\"],[0.8888888888888888,\"#fdca26\"],[1.0,\"#f0f921\"]]}],\"heatmap\":[{\"type\":\"heatmap\",\"colorbar\":{\"outlinewidth\":0,\"ticks\":\"\"},\"colorscale\":[[0.0,\"#0d0887\"],[0.1111111111111111,\"#46039f\"],[0.2222222222222222,\"#7201a8\"],[0.3333333333333333,\"#9c179e\"],[0.4444444444444444,\"#bd3786\"],[0.5555555555555556,\"#d8576b\"],[0.6666666666666666,\"#ed7953\"],[0.7777777777777778,\"#fb9f3a\"],[0.8888888888888888,\"#fdca26\"],[1.0,\"#f0f921\"]]}],\"heatmapgl\":[{\"type\":\"heatmapgl\",\"colorbar\":{\"outlinewidth\":0,\"ticks\":\"\"},\"colorscale\":[[0.0,\"#0d0887\"],[0.1111111111111111,\"#46039f\"],[0.2222222222222222,\"#7201a8\"],[0.3333333333333333,\"#9c179e\"],[0.4444444444444444,\"#bd3786\"],[0.5555555555555556,\"#d8576b\"],[0.6666666666666666,\"#ed7953\"],[0.7777777777777778,\"#fb9f3a\"],[0.8888888888888888,\"#fdca26\"],[1.0,\"#f0f921\"]]}],\"contourcarpet\":[{\"type\":\"contourcarpet\",\"colorbar\":{\"outlinewidth\":0,\"ticks\":\"\"}}],\"contour\":[{\"type\":\"contour\",\"colorbar\":{\"outlinewidth\":0,\"ticks\":\"\"},\"colorscale\":[[0.0,\"#0d0887\"],[0.1111111111111111,\"#46039f\"],[0.2222222222222222,\"#7201a8\"],[0.3333333333333333,\"#9c179e\"],[0.4444444444444444,\"#bd3786\"],[0.5555555555555556,\"#d8576b\"],[0.6666666666666666,\"#ed7953\"],[0.7777777777777778,\"#fb9f3a\"],[0.8888888888888888,\"#fdca26\"],[1.0,\"#f0f921\"]]}],\"surface\":[{\"type\":\"surface\",\"colorbar\":{\"outlinewidth\":0,\"ticks\":\"\"},\"colorscale\":[[0.0,\"#0d0887\"],[0.1111111111111111,\"#46039f\"],[0.2222222222222222,\"#7201a8\"],[0.3333333333333333,\"#9c179e\"],[0.4444444444444444,\"#bd3786\"],[0.5555555555555556,\"#d8576b\"],[0.6666666666666666,\"#ed7953\"],[0.7777777777777778,\"#fb9f3a\"],[0.8888888888888888,\"#fdca26\"],[1.0,\"#f0f921\"]]}],\"mesh3d\":[{\"type\":\"mesh3d\",\"colorbar\":{\"outlinewidth\":0,\"ticks\":\"\"}}],\"scatter\":[{\"fillpattern\":{\"fillmode\":\"overlay\",\"size\":10,\"solidity\":0.2},\"type\":\"scatter\"}],\"parcoords\":[{\"type\":\"parcoords\",\"line\":{\"colorbar\":{\"outlinewidth\":0,\"ticks\":\"\"}}}],\"scatterpolargl\":[{\"type\":\"scatterpolargl\",\"marker\":{\"colorbar\":{\"outlinewidth\":0,\"ticks\":\"\"}}}],\"bar\":[{\"error_x\":{\"color\":\"#2a3f5f\"},\"error_y\":{\"color\":\"#2a3f5f\"},\"marker\":{\"line\":{\"color\":\"#E5ECF6\",\"width\":0.5},\"pattern\":{\"fillmode\":\"overlay\",\"size\":10,\"solidity\":0.2}},\"type\":\"bar\"}],\"scattergeo\":[{\"type\":\"scattergeo\",\"marker\":{\"colorbar\":{\"outlinewidth\":0,\"ticks\":\"\"}}}],\"scatterpolar\":[{\"type\":\"scatterpolar\",\"marker\":{\"colorbar\":{\"outlinewidth\":0,\"ticks\":\"\"}}}],\"histogram\":[{\"marker\":{\"pattern\":{\"fillmode\":\"overlay\",\"size\":10,\"solidity\":0.2}},\"type\":\"histogram\"}],\"scattergl\":[{\"type\":\"scattergl\",\"marker\":{\"colorbar\":{\"outlinewidth\":0,\"ticks\":\"\"}}}],\"scatter3d\":[{\"type\":\"scatter3d\",\"line\":{\"colorbar\":{\"outlinewidth\":0,\"ticks\":\"\"}},\"marker\":{\"colorbar\":{\"outlinewidth\":0,\"ticks\":\"\"}}}],\"scattermapbox\":[{\"type\":\"scattermapbox\",\"marker\":{\"colorbar\":{\"outlinewidth\":0,\"ticks\":\"\"}}}],\"scatterternary\":[{\"type\":\"scatterternary\",\"marker\":{\"colorbar\":{\"outlinewidth\":0,\"ticks\":\"\"}}}],\"scattercarpet\":[{\"type\":\"scattercarpet\",\"marker\":{\"colorbar\":{\"outlinewidth\":0,\"ticks\":\"\"}}}],\"carpet\":[{\"aaxis\":{\"endlinecolor\":\"#2a3f5f\",\"gridcolor\":\"white\",\"linecolor\":\"white\",\"minorgridcolor\":\"white\",\"startlinecolor\":\"#2a3f5f\"},\"baxis\":{\"endlinecolor\":\"#2a3f5f\",\"gridcolor\":\"white\",\"linecolor\":\"white\",\"minorgridcolor\":\"white\",\"startlinecolor\":\"#2a3f5f\"},\"type\":\"carpet\"}],\"table\":[{\"cells\":{\"fill\":{\"color\":\"#EBF0F8\"},\"line\":{\"color\":\"white\"}},\"header\":{\"fill\":{\"color\":\"#C8D4E3\"},\"line\":{\"color\":\"white\"}},\"type\":\"table\"}],\"barpolar\":[{\"marker\":{\"line\":{\"color\":\"#E5ECF6\",\"width\":0.5},\"pattern\":{\"fillmode\":\"overlay\",\"size\":10,\"solidity\":0.2}},\"type\":\"barpolar\"}],\"pie\":[{\"automargin\":true,\"type\":\"pie\"}]},\"layout\":{\"autotypenumbers\":\"strict\",\"colorway\":[\"#636efa\",\"#EF553B\",\"#00cc96\",\"#ab63fa\",\"#FFA15A\",\"#19d3f3\",\"#FF6692\",\"#B6E880\",\"#FF97FF\",\"#FECB52\"],\"font\":{\"color\":\"#2a3f5f\"},\"hovermode\":\"closest\",\"hoverlabel\":{\"align\":\"left\"},\"paper_bgcolor\":\"white\",\"plot_bgcolor\":\"#E5ECF6\",\"polar\":{\"bgcolor\":\"#E5ECF6\",\"angularaxis\":{\"gridcolor\":\"white\",\"linecolor\":\"white\",\"ticks\":\"\"},\"radialaxis\":{\"gridcolor\":\"white\",\"linecolor\":\"white\",\"ticks\":\"\"}},\"ternary\":{\"bgcolor\":\"#E5ECF6\",\"aaxis\":{\"gridcolor\":\"white\",\"linecolor\":\"white\",\"ticks\":\"\"},\"baxis\":{\"gridcolor\":\"white\",\"linecolor\":\"white\",\"ticks\":\"\"},\"caxis\":{\"gridcolor\":\"white\",\"linecolor\":\"white\",\"ticks\":\"\"}},\"coloraxis\":{\"colorbar\":{\"outlinewidth\":0,\"ticks\":\"\"}},\"colorscale\":{\"sequential\":[[0.0,\"#0d0887\"],[0.1111111111111111,\"#46039f\"],[0.2222222222222222,\"#7201a8\"],[0.3333333333333333,\"#9c179e\"],[0.4444444444444444,\"#bd3786\"],[0.5555555555555556,\"#d8576b\"],[0.6666666666666666,\"#ed7953\"],[0.7777777777777778,\"#fb9f3a\"],[0.8888888888888888,\"#fdca26\"],[1.0,\"#f0f921\"]],\"sequentialminus\":[[0.0,\"#0d0887\"],[0.1111111111111111,\"#46039f\"],[0.2222222222222222,\"#7201a8\"],[0.3333333333333333,\"#9c179e\"],[0.4444444444444444,\"#bd3786\"],[0.5555555555555556,\"#d8576b\"],[0.6666666666666666,\"#ed7953\"],[0.7777777777777778,\"#fb9f3a\"],[0.8888888888888888,\"#fdca26\"],[1.0,\"#f0f921\"]],\"diverging\":[[0,\"#8e0152\"],[0.1,\"#c51b7d\"],[0.2,\"#de77ae\"],[0.3,\"#f1b6da\"],[0.4,\"#fde0ef\"],[0.5,\"#f7f7f7\"],[0.6,\"#e6f5d0\"],[0.7,\"#b8e186\"],[0.8,\"#7fbc41\"],[0.9,\"#4d9221\"],[1,\"#276419\"]]},\"xaxis\":{\"gridcolor\":\"white\",\"linecolor\":\"white\",\"ticks\":\"\",\"title\":{\"standoff\":15},\"zerolinecolor\":\"white\",\"automargin\":true,\"zerolinewidth\":2},\"yaxis\":{\"gridcolor\":\"white\",\"linecolor\":\"white\",\"ticks\":\"\",\"title\":{\"standoff\":15},\"zerolinecolor\":\"white\",\"automargin\":true,\"zerolinewidth\":2},\"scene\":{\"xaxis\":{\"backgroundcolor\":\"#E5ECF6\",\"gridcolor\":\"white\",\"linecolor\":\"white\",\"showbackground\":true,\"ticks\":\"\",\"zerolinecolor\":\"white\",\"gridwidth\":2},\"yaxis\":{\"backgroundcolor\":\"#E5ECF6\",\"gridcolor\":\"white\",\"linecolor\":\"white\",\"showbackground\":true,\"ticks\":\"\",\"zerolinecolor\":\"white\",\"gridwidth\":2},\"zaxis\":{\"backgroundcolor\":\"#E5ECF6\",\"gridcolor\":\"white\",\"linecolor\":\"white\",\"showbackground\":true,\"ticks\":\"\",\"zerolinecolor\":\"white\",\"gridwidth\":2}},\"shapedefaults\":{\"line\":{\"color\":\"#2a3f5f\"}},\"annotationdefaults\":{\"arrowcolor\":\"#2a3f5f\",\"arrowhead\":0,\"arrowwidth\":1},\"geo\":{\"bgcolor\":\"white\",\"landcolor\":\"#E5ECF6\",\"subunitcolor\":\"white\",\"showland\":true,\"showlakes\":true,\"lakecolor\":\"white\"},\"title\":{\"x\":0.05},\"mapbox\":{\"style\":\"light\"}}},\"xaxis\":{\"anchor\":\"y\",\"domain\":[0.0,1.0],\"title\":{\"text\":\"Date\"}},\"yaxis\":{\"anchor\":\"x\",\"domain\":[0.0,1.0],\"title\":{\"text\":\"Number of Events\"}},\"legend\":{\"title\":{\"text\":\"Event\"},\"tracegroupgap\":0},\"title\":{\"text\":\"Distribution of Events vs Percent change of Corn Futures\"},\"barmode\":\"relative\",\"height\":450,\"width\":1050},                        {\"responsive\": true}                    ).then(function(){\n",
       "                            \n",
       "var gd = document.getElementById('8468aa68-9ea0-4398-97e5-3d206ddcff62');\n",
       "var x = new MutationObserver(function (mutations, observer) {{\n",
       "        var display = window.getComputedStyle(gd).display;\n",
       "        if (!display || display === 'none') {{\n",
       "            console.log([gd, 'removed!']);\n",
       "            Plotly.purge(gd);\n",
       "            observer.disconnect();\n",
       "        }}\n",
       "}});\n",
       "\n",
       "// Listen for the removal of the full notebook cells\n",
       "var notebookContainer = gd.closest('#notebook-container');\n",
       "if (notebookContainer) {{\n",
       "    x.observe(notebookContainer, {childList: true});\n",
       "}}\n",
       "\n",
       "// Listen for the clearing of the current output cell\n",
       "var outputEl = gd.closest('.output');\n",
       "if (outputEl) {{\n",
       "    x.observe(outputEl, {childList: true});\n",
       "}}\n",
       "\n",
       "                        })                };                });            </script>        </div>"
      ]
     },
     "metadata": {},
     "output_type": "display_data"
    }
   ],
   "source": [
    "import plotly.express as px\n",
    "import plotly.graph_objects as go\n",
    "df1 = web_parser1(\"https://www.ncdc.noaa.gov/stormevents/listevents.jsp?eventType=ALL&beginDate_mm=02&beginDate_dd=01&beginDate_yyyy=2024&endDate_mm=02&endDate_dd=28&endDate_yyyy=2025&county=COOK%3A31&hailfilter=0.00&tornfilter=0&windfilter=000&sort=DT&submitbutton=Search&statefips=17%2CILLINOIS\")\n",
    "df2 = extra_source1(\"corn_price.csv\")\n",
    "\n",
    "def visual2():\n",
    "    df1.index = df1.index.strftime(\"%Y-%m\")\n",
    "    df2.index = df2.index.strftime(\"%Y-%m\")\n",
    "    df = pd.merge(df1, df2, left_index = True, right_index = True, how=\"inner\")\n",
    "    \n",
    "    grouped = pd.DataFrame(df.groupby([df.index, \"Event\"])[\"Event\"].count())\n",
    "    grouped.rename(columns={\"Event\": \"Count\"}, inplace=True)\n",
    "    grouped.reset_index(inplace=True)\n",
    "    grouped.rename(columns={\"level_0\": \"Date\"}, inplace=True)\n",
    "\n",
    "    fig = px.bar(grouped, x=\"Date\", y=\"Count\", color=\"Event\", labels={\"Date\": \"Date\",\n",
    "                       \"Event\": \"Event\", \"Count\":\"Number of events\"}, title = \"Distribution of Events vs Percent change of Corn Futures\")\n",
    "    fig.update_layout(yaxis_title='Number of Events',height=450,width=1050)\n",
    "\n",
    "    fig.add_trace(\n",
    "    go.Scatter(\n",
    "        x=df2.loc[df1.index[0]: df1.index[-1]].index,\n",
    "        y=df2.loc[df1.index[0]: df1.index[-1]][\"pct_change\"],\n",
    "        line_color=\"crimson\",\n",
    "        name=\"Percent Change for Corn Futures\"\n",
    "    ))\n",
    "\n",
    "    fig.show()\n",
    "\n",
    "############ Function Call ############\n",
    "visual2()"
   ]
  },
  {
   "cell_type": "markdown",
   "metadata": {
    "id": "hbq6zDSuxg3b"
   },
   "source": [
    "### Visualization 2 Explanation\n",
    "\n",
    "Insert explanation here: The distribution of events versus the percent change in corn futures visualizes how corn futures prices change with respect to the number of events occurring during those months. The events are based solely on data from Cook County, Illinois (where Chicago is located). Despite this, Illinois is the second-largest state in terms of corn production. We are examining how these types of events could affect corn-growing potential in the region.\n",
    "\n",
    "Conclusion: From the graph, we can observe various events that may influence prices to rise or fall. Based on the results, we can infer that a higher number of events tends to lead to a downward movement in prices. Specifically, from May 2024 to September 2024, we see a noticeable decline, during which numerous natural events occurred, and the percent change in corn futures prices also dropped. This also align with our insight 5 that provide a table based for Number of Events happening in each year. "
   ]
  },
  {
   "cell_type": "code",
   "execution_count": 91,
   "metadata": {
    "id": "mOyKClx1xXOt"
   },
   "outputs": [
    {
     "data": {
      "image/png": "[encoded data removed]",
      "text/plain": [
       "<Figure size 640x480 with 2 Axes>"
      ]
     },
     "metadata": {},
     "output_type": "display_data"
    }
   ],
   "source": [
    "import matplotlib.pyplot as plt\n",
    "\n",
    "def visual3():\n",
    "    df = data_parser(\"inputdata.csv\")\n",
    "    commodities = [\"Corn\", \"Cotton\", \"Soybeans\", \"Wheat\"]\n",
    "    new_df = {}\n",
    "\n",
    "    for commodity in commodities:\n",
    "        # filter each commodity\n",
    "        sub_df = df[(df[\"item\"] == \"Basis\") & (df.index == commodity)].copy()\n",
    "        sub_df.reset_index(inplace=True)\n",
    "        sub_df.index = pd.to_datetime(sub_df[\"data_source_date\"])\n",
    "        sub_df[\"volatility\"] = sub_df[\"value\"].rolling(window=12).std()\n",
    "        new_df[commodity] = sub_df\n",
    "        \n",
    "    correlation_list = []\n",
    "\n",
    "    for commodity in commodities:\n",
    "        for next_commodity in commodities:\n",
    "            auto_corr = new_df[commodity][\"volatility\"].corr(new_df[next_commodity][\"volatility\"])\n",
    "            correlation_list.append(auto_corr)\n",
    "\n",
    "    array = np.array(correlation_list).reshape((4,4))\n",
    "\n",
    "    fig, ax = plt.subplots()\n",
    "    im = ax.imshow(array, cmap=\"viridis\")\n",
    "    \n",
    "    ax.set_xticks(np.arange(len(commodities)))\n",
    "    ax.set_yticks(np.arange(len(commodities)))\n",
    "    ax.set_xticklabels(commodities, rotation=45, ha=\"right\")\n",
    "    ax.set_yticklabels(commodities)\n",
    "    \n",
    "    for i in range(len(commodities)):\n",
    "        for j in range(len(commodities)):\n",
    "            text = ax.text(j, i, f\"{array[i, j]:.2f}\",\n",
    "                           ha=\"center\", va=\"center\", color=\"white\")\n",
    "    \n",
    "    ax.set_title(\"Volatility Correlation Between Commodities\")\n",
    "    fig.tight_layout()\n",
    "    plt.colorbar(im, ax=ax)\n",
    "    plt.show()\n",
    "\n",
    "############ Function Call ############\n",
    "visual3()"
   ]
  },
  {
   "cell_type": "markdown",
   "metadata": {
    "id": "YLZvX6Plxhhs"
   },
   "source": [
    "### Visualization 3 Explanation\n",
    "\n",
    "Insert explanation here: This insight visualizes the correlation of price volatility in the basis values across four major commodities: Corn, Cotton, Soybeans, and Wheat. The basis for each commodity is smoothed using a 12-month rolling standard deviation to quantify its volatility over time. The result is a heatmap that reveals how closely the volatilities of these markets move together.\n",
    "\n",
    "High correlation values (near 1.0) between commodities suggest they tend to experience similar market shocks or follow shared economic patterns—such as common growing seasons, global demand cycles, or overlapping export markets. Low or negative correlations may indicate that the commodities respond differently to supply chain changes or policy decisions, allowing for diversification in trading or hedging strategies.\n",
    "\n",
    "Conclusion: From the graph, Soybeans and Corn have a correlation of 0.63, which is more than 50%. The second-highest correlation is between Wheat and Soybeans, with a value of 0.43. These results suggest potential hedging opportunities for Corn and Soybeans, as they tend to move together more closely than other commodities.\n",
    "\n",
    "This visual makes it easier for analysts and traders to spot interconnected risks or diversification opportunities across crop markets."
   ]
  },
  {
   "cell_type": "markdown",
   "metadata": {
    "id": "kd74HqEPx8zh"
   },
   "source": [
    "# Cited Sources\n",
    "\n",
    "If you used any additional sources to complete your Data Analysis section, list them here:\n",
    "\n",
    "\n",
    "*  Heatmap Documentation: https://matplotlib.org/stable/gallery/images_contours_and_fields/image_annotated_heatmap.html\n",
    "*  Groupby Documentation: https://pandas.pydata.org/docs/reference/api/pandas.DataFrame.groupby.html"
   ]
  },
  {
   "cell_type": "markdown",
   "metadata": {
    "id": "iuYbFQplyXK2"
   },
   "source": [
    "# Graphical User Interface (GUI) Implementation\n",
    "If you decide to create a GUI for Phase II, please create a separate Python file (.py) to build your GUI. You must submit both the completed PhaseII.ipynb and your Python GUI file."
   ]
  },
  {
   "cell_type": "markdown",
   "metadata": {
    "id": "mZENd-i9cinj"
   },
   "source": [
    "# Submission\n",
    "\n",
    "Prior to submitting your notebook to Gradescope, be sure to <b>run all functions within this file</b>. We will not run your functions ourselves, so we must see your outputs within this file in order to receive full credit.\n"
   ]
  }
 ],
 "metadata": {
  "colab": {
   "collapsed_sections": [],
   "name": "PhaseIII.ipynb",
   "provenance": []
  },
  "kernelspec": {
   "display_name": "Python 3 (ipykernel)",
   "language": "python",
   "name": "python3"
  },
  "language_info": {
   "codemirror_mode": {
    "name": "ipython",
    "version": 3
   },
   "file_extension": ".py",
   "mimetype": "text/x-python",
   "name": "python",
   "nbconvert_exporter": "python",
   "pygments_lexer": "ipython3",
   "version": "3.12.4"
  }
 },
 "nbformat": 4,
 "nbformat_minor": 4
}
